{
 "cells": [
  {
   "cell_type": "code",
   "execution_count": 1,
   "metadata": {},
   "outputs": [],
   "source": [
    "# References:\n",
    "# https://pub.towardsai.net/how-to-do-effective-paraphrasing-using-huggingface-and-diverse-beam-search-t5-pegasus-229ca998d229\n",
    "# \n",
    "\n",
    "from transformers import PegasusForConditionalGeneration, PegasusTokenizer\n",
    "import torch\n",
    "\n",
    "paraphraser = \"tuner007/pegasus_paraphrase\"\n",
    "\n",
    "import warnings\n",
    "warnings.filterwarnings(\"ignore\")\n",
    "\n",
    "def initParaphraser(model_name):\n",
    "    torch_device = 'cuda' if torch.cuda.is_available() else 'cpu'\n",
    "    tokenizer = PegasusTokenizer.from_pretrained(model_name)\n",
    "    model = PegasusForConditionalGeneration.from_pretrained(model_name).to(torch_device)\n",
    "    \n",
    "    return torch_device,tokenizer,model\n",
    "\n",
    "def generateParaphrases(sent,torch_device,tokenizer,model,temperature,beams,variations):    \n",
    "    batch = tokenizer.prepare_seq2seq_batch(sent,truncation=True,padding='longest',max_length=60, return_tensors=\"pt\").to(torch_device)\n",
    "    translated = model.generate(**batch,max_length=60,num_beams=beams, num_return_sequences=variations, temperature=temperature, max_time = None, early_stopping = True)\n",
    "    paral = tokenizer.batch_decode(translated, skip_special_tokens=True)\n",
    "\n",
    "    return paral\n",
    "\n",
    "torch_device,tokenizer,model = initParaphraser(paraphraser)"
   ]
  },
  {
   "cell_type": "code",
   "execution_count": 2,
   "metadata": {},
   "outputs": [
    {
     "name": "stdout",
     "output_type": "stream",
     "text": [
      "Direct transfer reactions can be used in the study of light exotic nuclei.\n",
      "Direct transfer reactions can be used to study light exotic nuclei.\n",
      "Direct transfer reactions have been used in the study of light exotic nuclei.\n",
      "Direct transfer reactions are used in the study of light exotic nuclei.\n",
      "Direct transfer reactions are useful in the study of light exotic nuclei.\n"
     ]
    }
   ],
   "source": [
    "temperature = 1.5\n",
    "beams = 10\n",
    "variations = 5\n",
    "\n",
    "sent = \"Direct transfer reactions have proven to be convenient tools in the study of light exotic nuclei\"\n",
    "\n",
    "paral = generateParaphrases(sent,torch_device,tokenizer,model,temperature,beams,variations)\n",
    "\n",
    "for para in paral:\n",
    "    print(para)"
   ]
  },
  {
   "attachments": {},
   "cell_type": "markdown",
   "metadata": {},
   "source": [
    "***Measuring effectiveness of paraphrases***\n",
    "\n",
    "Variability - Levenshtein Distance\n",
    "\n",
    "Meaningfulness\n",
    "\n",
    "Reference: https://arxiv.org/pdf/2205.13119.pdf - Understanding Metrics for Paraphrasing\n",
    "\n",
    "https://lopezyse.medium.com/paraphrasing-in-natural-language-processing-nlp-857c28e68488"
   ]
  },
  {
   "cell_type": "code",
   "execution_count": 2,
   "metadata": {},
   "outputs": [
    {
     "data": {
      "text/plain": [
       "50"
      ]
     },
     "execution_count": 2,
     "metadata": {},
     "output_type": "execute_result"
    }
   ],
   "source": [
    "import Levenshtein\n",
    "Levenshtein.distance('Direct transfer reactions are convenient to use.', \"Direct transfer reactions have proven to be convenient tools in the study of light exotic nuclei\")"
   ]
  },
  {
   "cell_type": "code",
   "execution_count": 3,
   "metadata": {},
   "outputs": [
    {
     "data": {
      "text/plain": [
       "0.5416666666666666"
      ]
     },
     "execution_count": 3,
     "metadata": {},
     "output_type": "execute_result"
    }
   ],
   "source": [
    "Levenshtein.seqratio('Direct transfer reactions are convenient to use.', \"Direct transfer reactions have proven to be convenient tools in the study of light exotic nuclei\")"
   ]
  },
  {
   "cell_type": "code",
   "execution_count": 5,
   "metadata": {},
   "outputs": [
    {
     "data": {
      "text/plain": [
       "7"
      ]
     },
     "execution_count": 5,
     "metadata": {},
     "output_type": "execute_result"
    }
   ],
   "source": [
    "len(\"Direct transfer reactions are convenient to use.\".split())"
   ]
  },
  {
   "cell_type": "code",
   "execution_count": 4,
   "metadata": {},
   "outputs": [],
   "source": [
    "import levenshteinDistance"
   ]
  },
  {
   "cell_type": "code",
   "execution_count": 5,
   "metadata": {},
   "outputs": [
    {
     "data": {
      "text/plain": [
       "10.0"
      ]
     },
     "execution_count": 5,
     "metadata": {},
     "output_type": "execute_result"
    }
   ],
   "source": [
    "levenshteinDistance.levenshteinDistance('Direct transfer reactions are used to study exotic nuclei.',\n",
    "                                         \"Direct transfer reactions have proven to be convenient tools in the study of light exotic nuclei\")"
   ]
  },
  {
   "cell_type": "code",
   "execution_count": 6,
   "metadata": {},
   "outputs": [],
   "source": [
    "def ratio(string1, string2):\n",
    "    lensum = max(len(string1), len(string2))\n",
    "    ldist = levenshteinDistance.levenshteinDistance(string1, string2)\n",
    "    return (lensum - ldist)/(lensum)"
   ]
  },
  {
   "cell_type": "code",
   "execution_count": 7,
   "metadata": {},
   "outputs": [
    {
     "data": {
      "text/plain": [
       "0.8958333333333334"
      ]
     },
     "execution_count": 7,
     "metadata": {},
     "output_type": "execute_result"
    }
   ],
   "source": [
    "ratio('Direct transfer reactions are used to study exotic nuclei.',\n",
    "     \"Direct transfer reactions have proven to be convenient tools in the study of light exotic nuclei\")"
   ]
  },
  {
   "attachments": {},
   "cell_type": "markdown",
   "metadata": {},
   "source": [
    "### Testing Variability of different models"
   ]
  },
  {
   "cell_type": "code",
   "execution_count": 8,
   "metadata": {},
   "outputs": [],
   "source": [
    "import numpy as np"
   ]
  },
  {
   "cell_type": "code",
   "execution_count": 12,
   "metadata": {},
   "outputs": [],
   "source": [
    "gpt4 = ['Direct transfer reactions have been confirmed as practical instruments for examining light exotic nuclei.',\n",
    "'The investigation of light exotic nuclei has been facilitated by the proven utility of direct transfer reactions.',\n",
    "'Direct transfer reactions have demonstrated their effectiveness as convenient means for the research of light exotic nuclei.',\n",
    "'In the realm of light exotic nuclei study, direct transfer reactions have been affirmed as handy tools.',\n",
    "'Direct transfer reactions have been validated as useful tools in the exploration of light exotic nuclei.']"
   ]
  },
  {
   "cell_type": "code",
   "execution_count": 17,
   "metadata": {},
   "outputs": [
    {
     "name": "stdout",
     "output_type": "stream",
     "text": [
      "[10.0, 15.0, 8.0, 17.0, 6.0]\n",
      "11.2\n"
     ]
    }
   ],
   "source": [
    "dist = []\n",
    "for sentence in gpt4:\n",
    "    dist.append(levenshteinDistance.levenshteinDistance(sentence, 'Direct transfer reactions have proven to be convenient tools in the study of light exotic nuclei'))\n",
    "print(dist)\n",
    "print(np.mean(dist))"
   ]
  },
  {
   "cell_type": "code",
   "execution_count": 18,
   "metadata": {},
   "outputs": [
    {
     "name": "stdout",
     "output_type": "stream",
     "text": [
      "[0.9047619047619048, 0.8672566371681416, 0.9354838709677419, 0.8349514563106796, 0.9423076923076923]\n",
      "0.8969523123032321\n"
     ]
    }
   ],
   "source": [
    "dist = []\n",
    "for sentence in gpt4:\n",
    "    dist.append(ratio(sentence, 'Direct transfer reactions have proven to be convenient tools in the study of light exotic nuclei'))\n",
    "print(dist)\n",
    "print(np.mean(dist))"
   ]
  },
  {
   "cell_type": "code",
   "execution_count": 19,
   "metadata": {},
   "outputs": [
    {
     "name": "stdout",
     "output_type": "stream",
     "text": [
      "[16.0, 18.0, 20.0, 24.0, 27.0]\n",
      "21.0\n",
      "[0.9024390243902439, 0.8922155688622755, 0.8907103825136612, 0.8571428571428571, 0.8439306358381503]\n",
      "0.8772876937494376\n"
     ]
    }
   ],
   "source": [
    "gpt3_5 = ['Transfer reactions involving direct transfers have emerged as practical instruments for investigating the characteristics of less-common, lightweight atomic nuclei.',\n",
    "'The application of direct transfer reactions has demonstrated their effectiveness as useful techniques for exploring the properties of light and unusual atomic nuclei.',\n",
    "'The utilization of direct transfer reactions has been shown to be advantageous for the examination of light exotic nuclei, providing researchers with convenient tools for their study.',\n",
    "'Investigating light exotic nuclei has been facilitated through the use of direct transfer reactions, which have been established as convenient methods for this purpose.',\n",
    "'The study of light exotic nuclei has been greatly aided by the convenience and utility of direct transfer reactions, which serve as valuable tools in this field of research.']\n",
    "\n",
    "# Calculate Levenshtein distance\n",
    "dist = []\n",
    "for sentence in gpt3_5:\n",
    "    dist.append(levenshteinDistance.levenshteinDistance(sentence, 'Direct transfer reactions have proven to be convenient tools in the study of light exotic nuclei'))\n",
    "print(dist)\n",
    "print(np.mean(dist))\n",
    "\n",
    "# Calculate Levenshtein ratio\n",
    "dist = []\n",
    "for sentence in gpt3_5:\n",
    "    dist.append(ratio(sentence, 'Direct transfer reactions have proven to be convenient tools in the study of light exotic nuclei'))\n",
    "print(dist)\n",
    "print(np.mean(dist))"
   ]
  },
  {
   "cell_type": "code",
   "execution_count": 20,
   "metadata": {},
   "outputs": [
    {
     "name": "stdout",
     "output_type": "stream",
     "text": [
      "[16.0, 5.0, 10.0, 16.0, 10.0]\n",
      "11.4\n",
      "[0.8333333333333334, 0.9479166666666666, 0.8958333333333334, 0.8333333333333334, 0.8958333333333334]\n",
      "0.88125\n"
     ]
    }
   ],
   "source": [
    "bing = ['The study of light exotic nuclei has been made easier by direct transfer reactions.',\n",
    "'Direct transfer reactions have been found to be useful in the study of light exotic nuclei.',\n",
    "'Direct transfer reactions are a convenient tool for studying light exotic nuclei.',\n",
    "'The study of light exotic nuclei has been facilitated by direct transfer reactions.',\n",
    "'Direct transfer reactions are useful tools for studying light exotic nuclei.']\n",
    "\n",
    "# Calculate Levenshtein distance\n",
    "dist = []\n",
    "for sentence in bing:\n",
    "    dist.append(levenshteinDistance.levenshteinDistance(sentence, 'Direct transfer reactions have proven to be convenient tools in the study of light exotic nuclei'))\n",
    "print(dist)\n",
    "print(np.mean(dist))\n",
    "\n",
    "# Calculate Levenshtein ratio\n",
    "dist = []\n",
    "for sentence in bing:\n",
    "    dist.append(ratio(sentence, 'Direct transfer reactions have proven to be convenient tools in the study of light exotic nuclei'))\n",
    "print(dist)\n",
    "print(np.mean(dist))"
   ]
  },
  {
   "cell_type": "code",
   "execution_count": 21,
   "metadata": {},
   "outputs": [
    {
     "name": "stdout",
     "output_type": "stream",
     "text": [
      "[11.0, 10.0, 9.0, 8.0, 10.0]\n",
      "9.6\n",
      "[0.8854166666666666, 0.8958333333333334, 0.90625, 0.9166666666666666, 0.8958333333333334]\n",
      "0.9\n"
     ]
    }
   ],
   "source": [
    "bard = ['Direct transfer reactions are a useful method for studying light exotic nuclei.',\n",
    "'Direct transfer reactions have been used to gain valuable insights into light exotic nuclei.',\n",
    "'Direct transfer reactions are a powerful tool for probing the structure of light exotic nuclei.',\n",
    "'Direct transfer reactions can be used to measure the properties of light exotic nuclei.',\n",
    "'Direct transfer reactions have provided a wealth of information about light exotic nuclei.']\n",
    "\n",
    "# Calculate Levenshtein distance\n",
    "dist = []\n",
    "for sentence in bard:\n",
    "    dist.append(levenshteinDistance.levenshteinDistance(sentence, 'Direct transfer reactions have proven to be convenient tools in the study of light exotic nuclei'))\n",
    "print(dist)\n",
    "print(np.mean(dist))\n",
    "\n",
    "# Calculate Levenshtein ratio\n",
    "dist = []\n",
    "for sentence in bard:\n",
    "    dist.append(ratio(sentence, 'Direct transfer reactions have proven to be convenient tools in the study of light exotic nuclei'))\n",
    "print(dist)\n",
    "print(np.mean(dist))"
   ]
  },
  {
   "cell_type": "code",
   "execution_count": 22,
   "metadata": {},
   "outputs": [
    {
     "name": "stdout",
     "output_type": "stream",
     "text": [
      "[6.0, 9.0, 6.0, 7.0, 7.0]\n",
      "7.0\n",
      "[0.9375, 0.90625, 0.9375, 0.9270833333333334, 0.9270833333333334]\n",
      "0.9270833333333334\n"
     ]
    }
   ],
   "source": [
    "pegasus = ['Direct transfer reactions can be used in the study of light exotic nuclei.',\n",
    "'Direct transfer reactions can be used to study light exotic nuclei.',\n",
    "'Direct transfer reactions have been used in the study of light exotic nuclei.',\n",
    "'Direct transfer reactions are used in the study of light exotic nuclei.',\n",
    "'Direct transfer reactions are useful in the study of light exotic nuclei.']\n",
    "\n",
    "# Calculate Levenshtein distance\n",
    "dist = []\n",
    "for sentence in pegasus:\n",
    "    dist.append(levenshteinDistance.levenshteinDistance(sentence, 'Direct transfer reactions have proven to be convenient tools in the study of light exotic nuclei'))\n",
    "print(dist)\n",
    "print(np.mean(dist))\n",
    "\n",
    "# Calculate Levenshtein ratio\n",
    "dist = []\n",
    "for sentence in pegasus:\n",
    "    dist.append(ratio(sentence, 'Direct transfer reactions have proven to be convenient tools in the study of light exotic nuclei'))\n",
    "print(dist)\n",
    "print(np.mean(dist))"
   ]
  },
  {
   "cell_type": "code",
   "execution_count": 23,
   "metadata": {},
   "outputs": [
    {
     "name": "stdout",
     "output_type": "stream",
     "text": [
      "[5.0, 3.0, 3.0, 2.0, 3.0]\n",
      "3.2\n",
      "[0.9479166666666666, 0.9690721649484536, 0.9696969696969697, 0.9791666666666666, 0.96875]\n",
      "0.9669204935957513\n"
     ]
    }
   ],
   "source": [
    "parrot = ['Direct transfer reactions have proven to be useful tools in studying light exotic nuclei',\n",
    "'Direct transfer reactions have been proven to be useful tools in the study of light exotic nuclei',\n",
    "'Direct transfer reactions have proven to be practical tools in the study of light and exotic nuclei',\n",
    "'Direct transfer reactions have proven to be useful tools in the study of light exotic nuclei',\n",
    "'Direct transfer reactions have proven to be convenient tools for study of light exotic nuclei']\n",
    "\n",
    "# Calculate Levenshtein distance\n",
    "dist = []\n",
    "for sentence in parrot:\n",
    "    dist.append(levenshteinDistance.levenshteinDistance(sentence, 'Direct transfer reactions have proven to be convenient tools in the study of light exotic nuclei'))\n",
    "print(dist)\n",
    "print(np.mean(dist))\n",
    "\n",
    "# Calculate Levenshtein ratio\n",
    "dist = []\n",
    "for sentence in parrot:\n",
    "    dist.append(ratio(sentence, 'Direct transfer reactions have proven to be convenient tools in the study of light exotic nuclei'))\n",
    "print(dist)\n",
    "print(np.mean(dist))"
   ]
  },
  {
   "attachments": {},
   "cell_type": "markdown",
   "metadata": {},
   "source": [
    "***Testing Parrot's model with knobs***\n",
    "\n",
    "Augmented thresholds for controlling output variations\n",
    "\n",
    "References: \n",
    "https://github.com/PrithivirajDamodaran/Parrot_Paraphraser\n",
    "\n",
    "https://huggingface.co/prithivida/parrot_paraphraser_on_T5\n"
   ]
  },
  {
   "cell_type": "code",
   "execution_count": 2,
   "metadata": {},
   "outputs": [],
   "source": [
    "from parrot import Parrot\n",
    "import torch\n",
    "import warnings\n",
    "warnings.filterwarnings(\"ignore\")"
   ]
  },
  {
   "cell_type": "code",
   "execution_count": 3,
   "metadata": {},
   "outputs": [],
   "source": [
    "# Only Init Once\n",
    "parrot = Parrot(model_tag=\"prithivida/parrot_paraphraser_on_T5\", use_gpu=False)"
   ]
  },
  {
   "cell_type": "code",
   "execution_count": 4,
   "metadata": {},
   "outputs": [],
   "source": [
    "phrase = \"Direct transfer reactions have proven to be convenient tools in the study of light exotic nuclei\""
   ]
  },
  {
   "cell_type": "code",
   "execution_count": 6,
   "metadata": {},
   "outputs": [
    {
     "name": "stdout",
     "output_type": "stream",
     "text": [
      "('direct transfer reactions have proven to be useful tools in studying light exotic nuclei', 28)\n",
      "('direct transfer reactions have been proven to be useful tools in the study of light exotic nuclei', 26)\n",
      "('direct transfer reactions have proven to be practical tools in the study of light and exotic nuclei', 25)\n",
      "('direct transfer reactions have proven to be useful tools in the study of light exotic nuclei', 21)\n",
      "('direct transfer reactions have proven to be convenient tools for study of light exotic nuclei', 18)\n",
      "('direct transfer reactions have proved to be convenient tools in the study of light exotic nuclei', 13)\n",
      "('direct transfer reactions have proven to be convenient tools in the study of light exotic nuclei', 12)\n"
     ]
    }
   ],
   "source": [
    "for i in range(5):\n",
    "    para_phrases = parrot.augment(input_phrase=phrase, \n",
    "                                diversity_ranker=\"levenshtein\", #levenshtein distance\n",
    "                                do_diverse=False, \n",
    "                                max_return_phrases = 10, \n",
    "                                max_length=32, \n",
    "                                adequacy_threshold = 0.50, \n",
    "                                fluency_threshold = 0.5)\n",
    "for para in para_phrases:\n",
    "    print(para)"
   ]
  },
  {
   "attachments": {},
   "cell_type": "markdown",
   "metadata": {},
   "source": [
    "https://machinelearningmastery.com/calculate-bleu-score-for-text-python/#:~:text=The%20Bilingual%20Evaluation%20Understudy%20Score,in%20a%20score%20of%200.0."
   ]
  },
  {
   "cell_type": "code",
   "execution_count": 5,
   "metadata": {},
   "outputs": [],
   "source": [
    "from nltk.translate.bleu_score import sentence_bleu\n"
   ]
  },
  {
   "cell_type": "code",
   "execution_count": 26,
   "metadata": {},
   "outputs": [
    {
     "name": "stdout",
     "output_type": "stream",
     "text": [
      "0.1974664618782603\n"
     ]
    }
   ],
   "source": [
    "phrase = \"Direct transfer reactions have proven to be convenient tools in the study of light exotic nuclei\"\n",
    "reference = [phrase.split()]\n",
    "candidate = \"Direct transfer reactions are convenient to use\".split()\n",
    "score = sentence_bleu(reference, candidate, weights=(1, 0, 0, 0))\n",
    "print(score)"
   ]
  },
  {
   "cell_type": "code",
   "execution_count": 27,
   "metadata": {},
   "outputs": [
    {
     "name": "stdout",
     "output_type": "stream",
     "text": [
      "Cumulative 1-gram: 0.197466\n",
      "Cumulative 2-gram: 0.134895\n",
      "Cumulative 3-gram: 0.101225\n",
      "Cumulative 4-gram: 0.000000\n"
     ]
    }
   ],
   "source": [
    "print('Cumulative 1-gram: %f' % sentence_bleu(reference, candidate, weights=(1, 0, 0, 0)))\n",
    "print('Cumulative 2-gram: %f' % sentence_bleu(reference, candidate, weights=(0.5, 0.5, 0, 0)))\n",
    "print('Cumulative 3-gram: %f' % sentence_bleu(reference, candidate, weights=(0.33, 0.33, 0.33, 0)))\n",
    "print('Cumulative 4-gram: %f' % sentence_bleu(reference, candidate, weights=(0.25, 0.25, 0.25, 0.25)))"
   ]
  },
  {
   "cell_type": "code",
   "execution_count": 15,
   "metadata": {},
   "outputs": [],
   "source": [
    "import numpy as np"
   ]
  },
  {
   "cell_type": "code",
   "execution_count": null,
   "metadata": {},
   "outputs": [],
   "source": [
    "import os\n",
    "import openai\n",
    "openai.organization = \"Insert Org\" # Put in your own organization\n",
    "openai.api_key = \"Insert Key\" # Put in your own key\n",
    "openai.Model.list()"
   ]
  },
  {
   "cell_type": "code",
   "execution_count": 29,
   "metadata": {},
   "outputs": [
    {
     "data": {
      "text/plain": [
       "24.0"
      ]
     },
     "execution_count": 29,
     "metadata": {},
     "output_type": "execute_result"
    }
   ],
   "source": [
    "len(\"Direct transfer reactions have proven to be convenient tools in the study of light exotic nuclei\")/4\n"
   ]
  },
  {
   "cell_type": "code",
   "execution_count": null,
   "metadata": {},
   "outputs": [],
   "source": [
    "from bardapi import Bard\n",
    "\n",
    "token = 'Insert Token' # Put in your own token\n",
    "bard = Bard(token=token)\n",
    "bard.get_answer(\"Give me 5 paraphrases of 'Direct transfer reactions have proven to be convenient tools in the study of light exotic nuclei'\")['content']"
   ]
  },
  {
   "cell_type": "code",
   "execution_count": 1,
   "metadata": {},
   "outputs": [],
   "source": [
    "import json\n",
    "import asyncio"
   ]
  },
  {
   "cell_type": "code",
   "execution_count": 2,
   "metadata": {},
   "outputs": [],
   "source": [
    "from EdgeGPT import Query, Cookie, Chatbot, ConversationStyle"
   ]
  },
  {
   "cell_type": "code",
   "execution_count": 3,
   "metadata": {},
   "outputs": [],
   "source": [
    "cookies = json.loads(open(\"./bing_cookies_default.json\", encoding=\"utf-8\").read())\n",
    "bot = await Chatbot.create(cookies=cookies)"
   ]
  },
  {
   "cell_type": "code",
   "execution_count": null,
   "metadata": {},
   "outputs": [],
   "source": [
    "Cookie.current_filepath\n",
    "Cookie.import_data()"
   ]
  },
  {
   "cell_type": "code",
   "execution_count": null,
   "metadata": {},
   "outputs": [],
   "source": [
    "try:\n",
    "    loop = asyncio.get_running_loop()\n",
    "except RuntimeError:  # 'RuntimeError: There is no current event loop...'\n",
    "    loop = None\n",
    "\n",
    "if loop and loop.is_running():\n",
    "    print('Async event loop already running. Adding coroutine to the event loop.')\n",
    "    tsk = loop.create_task(main())\n",
    "    # ^-- https://docs.python.org/3/library/asyncio-task.html#task-object\n",
    "    # Optionally, a callback function can be executed when the coroutine completes\n",
    "    tsk.add_done_callback(\n",
    "        lambda t: print(f'Task done with result={t.result()}  << return val of main()'))\n",
    "else:\n",
    "    print('Starting new event loop')\n",
    "    result = asyncio.run(main())"
   ]
  },
  {
   "cell_type": "code",
   "execution_count": 7,
   "metadata": {},
   "outputs": [],
   "source": [
    "async def main():\n",
    "    bot = await Chatbot.create() # Passing cookies is optional\n",
    "    print(await bot.ask(prompt=\"Hello world\", conversation_style=ConversationStyle.creative))\n",
    "    await bot.close()\n",
    "\n",
    "# if __name__ == \"__main__\":\n",
    "#     asyncio.run(main())"
   ]
  },
  {
   "cell_type": "code",
   "execution_count": null,
   "metadata": {},
   "outputs": [],
   "source": [
    "q = Query(\"Give me 5 paraphrases of 'Direct transfer reactions have proven to be convenient tools in the study of light exotic nuclei'\")\n",
    "print(q)"
   ]
  },
  {
   "attachments": {},
   "cell_type": "markdown",
   "metadata": {},
   "source": [
    "# Semantic similarity"
   ]
  },
  {
   "cell_type": "code",
   "execution_count": null,
   "metadata": {},
   "outputs": [],
   "source": [
    "from sentence_transformers import SentenceTransformer\n",
    "\n",
    "# We first load our model\n",
    "model = SentenceTransformer('all-MiniLM-L6-v2')\n",
    "\n",
    "# Define the original sentence and the paraphrases\n",
    "original_sentence = \"Direct transfer reactions have proven to be convenient tools in the study of light exotic nuclei\""
   ]
  },
  {
   "cell_type": "code",
   "execution_count": 24,
   "metadata": {},
   "outputs": [
    {
     "name": "stdout",
     "output_type": "stream",
     "text": [
      "[0.92882776, 0.9068075, 0.94575, 0.8993396, 0.9049583] 0.91713667\n"
     ]
    }
   ],
   "source": [
    "# We compute embeddings for the original sentence and the paraphrases\n",
    "embeddings = model.encode([original_sentence] + gpt4)\n",
    "\n",
    "# The original sentence is the first one\n",
    "original_embedding = embeddings[0]\n",
    "\n",
    "similarity = []\n",
    "for i, paraphrase in enumerate(gpt4):\n",
    "    paraphrase_embedding = embeddings[i + 1]\n",
    "    # Cosine similarity is a good measure for semantic similarity\n",
    "    similarity.append(np.inner(original_embedding, paraphrase_embedding) / (np.linalg.norm(original_embedding) * np.linalg.norm(paraphrase_embedding)))\n",
    "print(similarity, np.mean(similarity))"
   ]
  },
  {
   "cell_type": "code",
   "execution_count": 25,
   "metadata": {},
   "outputs": [
    {
     "name": "stdout",
     "output_type": "stream",
     "text": [
      "[0.8062577, 0.9187103, 0.8422706, 0.888905, 0.8485297] 0.8609346\n"
     ]
    }
   ],
   "source": [
    "# We compute embeddings for the original sentence and the paraphrases\n",
    "embeddings = model.encode([original_sentence] + gpt3_5)\n",
    "\n",
    "# The original sentence is the first one\n",
    "original_embedding = embeddings[0]\n",
    "\n",
    "similarity = []\n",
    "for i, paraphrase in enumerate(gpt3_5):\n",
    "    paraphrase_embedding = embeddings[i + 1]\n",
    "    # Cosine similarity is a good measure for semantic similarity\n",
    "    similarity.append(np.inner(original_embedding, paraphrase_embedding) / (np.linalg.norm(original_embedding) * np.linalg.norm(paraphrase_embedding)))\n",
    "print(similarity, np.mean(similarity))"
   ]
  },
  {
   "cell_type": "code",
   "execution_count": 26,
   "metadata": {},
   "outputs": [
    {
     "name": "stdout",
     "output_type": "stream",
     "text": [
      "[0.9367213, 0.8976352, 0.9552614, 0.91223234, 0.94375896] 0.92912185\n"
     ]
    }
   ],
   "source": [
    "# We compute embeddings for the original sentence and the paraphrases\n",
    "embeddings = model.encode([original_sentence] + bing)\n",
    "\n",
    "# The original sentence is the first one\n",
    "original_embedding = embeddings[0]\n",
    "\n",
    "similarity = []\n",
    "for i, paraphrase in enumerate(bing):\n",
    "    paraphrase_embedding = embeddings[i + 1]\n",
    "    # Cosine similarity is a good measure for semantic similarity\n",
    "    similarity.append(np.inner(original_embedding, paraphrase_embedding) / (np.linalg.norm(original_embedding) * np.linalg.norm(paraphrase_embedding)))\n",
    "print(similarity, np.mean(similarity))"
   ]
  },
  {
   "cell_type": "code",
   "execution_count": 27,
   "metadata": {},
   "outputs": [
    {
     "name": "stdout",
     "output_type": "stream",
     "text": [
      "[0.9613517, 0.94911426, 0.91136706, 0.9378634, 0.9039205] 0.9327234\n"
     ]
    }
   ],
   "source": [
    "# We compute embeddings for the original sentence and the paraphrases\n",
    "embeddings = model.encode([original_sentence] + bard)\n",
    "\n",
    "# The original sentence is the first one\n",
    "original_embedding = embeddings[0]\n",
    "\n",
    "similarity = []\n",
    "for i, paraphrase in enumerate(bard):\n",
    "    paraphrase_embedding = embeddings[i + 1]\n",
    "    # Cosine similarity is a good measure for semantic similarity\n",
    "    similarity.append(np.inner(original_embedding, paraphrase_embedding) / (np.linalg.norm(original_embedding) * np.linalg.norm(paraphrase_embedding)))\n",
    "print(similarity, np.mean(similarity))"
   ]
  },
  {
   "cell_type": "code",
   "execution_count": 28,
   "metadata": {},
   "outputs": [
    {
     "name": "stdout",
     "output_type": "stream",
     "text": [
      "[0.5547579, 0.8508857, 0.5792154, 0.5628432, 0.59112465] 0.62776536\n"
     ]
    }
   ],
   "source": [
    "# We compute embeddings for the original sentence and the paraphrases\n",
    "embeddings = model.encode([original_sentence] + pegasus)\n",
    "\n",
    "# The original sentence is the first one\n",
    "original_embedding = embeddings[0]\n",
    "\n",
    "similarity = []\n",
    "for i, paraphrase in enumerate(pegasus):\n",
    "    paraphrase_embedding = embeddings[i + 1]\n",
    "    # Cosine similarity is a good measure for semantic similarity\n",
    "    similarity.append(np.inner(original_embedding, paraphrase_embedding) / (np.linalg.norm(original_embedding) * np.linalg.norm(paraphrase_embedding)))\n",
    "print(similarity, np.mean(similarity))"
   ]
  },
  {
   "cell_type": "code",
   "execution_count": 29,
   "metadata": {},
   "outputs": [
    {
     "name": "stdout",
     "output_type": "stream",
     "text": [
      "[1.0, 0.9639585, 0.99413294, 0.95298755, 0.9861748] 0.9794508\n"
     ]
    }
   ],
   "source": [
    "# We compute embeddings for the original sentence and the paraphrases\n",
    "embeddings = model.encode([original_sentence] + parrot)\n",
    "\n",
    "# The original sentence is the first one\n",
    "original_embedding = embeddings[0]\n",
    "\n",
    "similarity = []\n",
    "for i, paraphrase in enumerate(parrot):\n",
    "    paraphrase_embedding = embeddings[i + 1]\n",
    "    # Cosine similarity is a good measure for semantic similarity\n",
    "    similarity.append(np.inner(original_embedding, paraphrase_embedding) / (np.linalg.norm(original_embedding) * np.linalg.norm(paraphrase_embedding)))\n",
    "print(similarity, np.mean(similarity))"
   ]
  },
  {
   "attachments": {},
   "cell_type": "markdown",
   "metadata": {},
   "source": [
    "# Testing on sentences with keywords"
   ]
  },
  {
   "attachments": {},
   "cell_type": "markdown",
   "metadata": {},
   "source": [
    "### Keyword: superdeformed bands"
   ]
  },
  {
   "cell_type": "code",
   "execution_count": 9,
   "metadata": {},
   "outputs": [],
   "source": [
    "sentences = [\"Bengtsson et al. have calculated the l2 moments of inertia for several superdeformed bands and have shown that the variation in the total l2 value as a function of frequency is related to which high-N orbitals are occupied.\",\n",
    "\"In addition, the frequencies of de-excitation from the superdeformed bands in 150Gd and 151Tb are markedly different from those observed in 148,149Gd and 151,152Dy.\",\n",
    "\"Each transition was in coincidence with the other members of the band and the spectra in fig. 1 are sums of spectra in coincidence with transitions in the superdeformed bands of 150Gd and 151Tb respectively.\",\n",
    "\"Although no discrete transitions were found to link the superdeformed bands to known yrast states, it was possible, in the case of 150Gd to obtain a value for the average entry spin to the yrast states. This was established by measuring the intensity of the superdeformed band obtained from spectra gated on known yrast transitions.\",\n",
    "\"On the assumption that the superdeformed band does not become yrast until above spin 50 h then, due to its large moment of inertia, it is estimated to de-excite at an excitation energy of around 3 MeV above yrast.\"\n",
    "]"
   ]
  },
  {
   "attachments": {},
   "cell_type": "markdown",
   "metadata": {},
   "source": [
    "### Generating paraphrases"
   ]
  },
  {
   "attachments": {},
   "cell_type": "markdown",
   "metadata": {},
   "source": [
    "#### Either use the API access or directly use the website"
   ]
  },
  {
   "cell_type": "code",
   "execution_count": 10,
   "metadata": {},
   "outputs": [],
   "source": [
    "gpt4 = [\"The l2 moments of inertia for multiple superdeformed bands have been computed by Bengtsson and his team, and they've demonstrated that the fluctuation in the total l2 value in relation to frequency depends on the occupation of high-N orbitals.\",\n",
    "\"Moreover, the de-excitation rates from the superdeformed bands in 150Gd and 151Tb noticeably diverge from those found in 148,149Gd and 151,152Dy.\",\n",
    "\"Every transition coincided with other elements of the band and the spectra displayed in figure 1 are the aggregates of spectra correlating with transitions in the superdeformed bands of 150Gd and 151Tb.\",\n",
    "\"While no distinct transitions linking the superdeformed bands to known yrast states were identified, it was feasible to ascertain an average entry spin to the yrast states value for 150Gd. This was determined by gauging the intensity of the superdeformed band derived from spectra triggered by recognized yrast transitions.\"\n",
    "\"Assuming the superdeformed band doesn't become yrast until it exceeds a spin of 50 h, it's projected, due to its substantial moment of inertia, to de-excite at an excitation energy approximately 3 MeV above yrast.\"]"
   ]
  },
  {
   "cell_type": "code",
   "execution_count": 11,
   "metadata": {},
   "outputs": [],
   "source": [
    "gpt4_compiled = [[\"The l2 moments of inertia for multiple superdeformed bands have been computed by Bengtsson and his team, and they've demonstrated that the fluctuation in the total l2 value in relation to frequency depends on the occupation of high-N orbitals.\",\n",
    "\"Bengtsson and colleagues have determined the l2 moments of inertia for various superdeformed bands, illustrating that the change in total l2 value according to frequency correlates with the high-N orbitals that are filled.\",\n",
    "\"Bengtsson et al. have assessed the l2 moments of inertia for several superdeformed bands and revealed that the variations in the overall l2 value, depending on frequency, is linked to the occupied high-N orbitals.\",\n",
    "\"Bengtsson and others have figured out the l2 moments of inertia for multiple superdeformed bands and indicated that the total l2 value's fluctuation with frequency corresponds to the occupancy of high-N orbitals.\",\n",
    "\"Several superdeformed bands' l2 moments of inertia have been computed by Bengtsson and his collaborators, showing that the change in the entire l2 value, relative to frequency, is tied to which high-N orbitals are engaged.\"],\n",
    "[\"Moreover, the de-excitation rates from the superdeformed bands in 150Gd and 151Tb noticeably diverge from those found in 148,149Gd and 151,152Dy.\",\n",
    "\"The superdeformed bands' de-excitation frequencies in 150Gd and 151Tb are notably distinct from those in 148,149Gd and 151,152Dy.\",\n",
    "\"The de-excitation frequencies from the superdeformed bands in 150Gd and 151Tb contrast sharply with the observations in 148,149Gd and 151,152Dy.\",\n",
    "\"Distinct from those in 148,149Gd and 151,152Dy, the de-excitation frequencies of the superdeformed bands in 150Gd and 151Tb are markedly different.\",\n",
    "\"In 150Gd and 151Tb, the frequencies at which de-excitation occurs from the superdeformed bands differ significantly from the frequencies observed in 148,149Gd and 151,152Dy.\"],\n",
    "[\"Every transition coincided with other elements of the band and the spectra displayed in figure 1 are the aggregates of spectra correlating with transitions in the superdeformed bands of 150Gd and 151Tb.\",\n",
    "\"All transitions corresponded with other parts of the band, and the spectra in figure 1 represent combined spectra in synchrony with transitions in 150Gd and 151Tb's superdeformed bands.\",\n",
    "\"Every transition was found to coincide with other band members, and figure 1's spectra are aggregate sums of spectra that were in conjunction with transitions in 150Gd and 151Tb's superdeformed bands.\",\n",
    "\"Each of the transitions was simultaneous with the other band members, and the spectra in figure 1 consist of the total spectra coinciding with 150Gd and 151Tb's superdeformed bands' transitions.\",\n",
    "\"Each transition matched with other components of the band, and the spectra in figure 1 are collective sums of spectra that coincide with transitions in the superdeformed bands of 150Gd and 151Tb.\"],\n",
    "[\"While no distinct transitions linking the superdeformed bands to known yrast states were identified, it was feasible to ascertain an average entry spin to the yrast states value for 150Gd. This was determined by gauging the intensity of the superdeformed band derived from spectra triggered by recognized yrast transitions.\",\n",
    "\"Even though no specific transitions were discovered to connect the superdeformed bands to acknowledged yrast states, for 150Gd, an average entry spin to the yrast states value could be derived. This discovery was made by evaluating the superdeformed band's intensity from spectra related to known yrast transitions.\",\n",
    "\"Although connections between the superdeformed bands and known yrast states through discrete transitions were not found, it was achievable to obtain an average entry spin value for 150Gd's yrast states, gauged by the superdeformed band's intensity associated with known yrast transitions.\",\n",
    "\"While no separate transitions were detected that would link superdeformed bands to known yrast states, in the case of 150Gd, it was feasible to figure out an average entry spin to the yrast states, determined by the superdeformed band's intensity monitored through known yrast transitions.\",\n",
    "\"No individual transitions were located that could connect the superdeformed bands to known yrast states, but it was feasible, in 150Gd's case, to ascertain an average entry spin to the yrast states. This was determined by assessing the intensity of the superdeformed band resulting from spectra focused on known yrast transitions.\"],\n",
    "[\"Assuming the superdeformed band doesn't become yrast until it exceeds a spin of 50 h, it's projected, due to its substantial moment of inertia, to de-excite at an excitation energy approximately 3 MeV above yrast.\",\n",
    "\"If we presume that the superdeformed band won't reach yrast status until above a spin of 50 h, its large moment of inertia implies that it will likely de-excite around 3 MeV above yrast.\",\n",
    "\"On the premise that the superdeformed band only becomes yrast after surpassing a 50 h spin, it's estimated to de-excite about 3 MeV above yrast due to its significant moment of inertia.\",\n",
    "\"Assuming that the superdeformed band doesn't become yrast until beyond a spin of 50 h, it is expected to de-excite at an energy level roughly 3 MeV above yrast due to its extensive moment of inertia.\",\n",
    "\"Based on the belief that the superdeformed band won't attain yrast status until a spin greater than 50 h, and due to its immense moment of inertia, it's anticipated to de-excite at an excitation level around 3 MeV higher than yrast.\"]]\n"
   ]
  },
  {
   "cell_type": "code",
   "execution_count": 12,
   "metadata": {},
   "outputs": [],
   "source": [
    "gpt3_5 = [\"Bengtsson et al. computed the l2 moments of inertia for various superdeformed bands and demonstrated that the fluctuation in the overall l2 value concerning frequency is connected to the occupancy of specific high-N orbitals.\",\n",
    "\"Moreover, the frequencies of de-excitation from the superdeformed bands in 150Gd and 151Tb differ significantly from those observed in 148,149Gd, and 151,152Dy.\",\n",
    "\"Every transition coincided with other members of the band, and the spectra in figure 1 represent the combined spectra associated with transitions in the superdeformed bands of 150Gd and 151Tb, respectively.\",\n",
    "\"Although no distinct transitions were identified to link the superdeformed bands to known yrast states, it was possible, in the case of 150Gd, to determine the average entry spin to the yrast states. This was achieved by measuring the intensity of the superdeformed band obtained from spectra gated on known yrast transitions.\",\n",
    "\"Assuming that the superdeformed band does not become the yrast state until above spin 50 h, its large moment of inertia suggests that it will likely de-excite at an excitation energy approximately 3 MeV higher than the yrast state.\"]"
   ]
  },
  {
   "cell_type": "code",
   "execution_count": 13,
   "metadata": {},
   "outputs": [],
   "source": [
    "gpt35_compiled = [[\"In their study, Bengtsson et al. computed the l2 moments of inertia for multiple superdeformed bands and observed a connection between the frequency-dependent total l2 value and the occupation of high-N orbitals.\",\n",
    "\"Several superdeformed bands were analyzed by Bengtsson et al. to calculate the l2 moments of inertia. Their findings indicate a relationship between the total l2 value variation and the specific high-N orbitals that are filled.\",\n",
    "\"The l2 moments of inertia for different superdeformed bands were determined in Bengtsson et al.'s research. They demonstrated that the changes in the total l2 value concerning frequency are associated with the occupancy of high-N orbitals.\",\n",
    "\"In their study, Bengtsson and colleagues computed the l2 moments of inertia for various superdeformed bands. The results revealed a link between the fluctuations in the total l2 value based on frequency and the specific high-N orbitals being utilized.\",\n",
    "\"By calculating the l2 moments of inertia for several superdeformed bands, Bengtsson et al. discovered a connection between the total l2 value variation and the high-N orbitals that are occupied as the frequency changes.\"],\n",
    "[\"Additionally, the decay frequencies of the superdeformed bands in 150Gd and 151Tb show marked differences compared to the frequencies observed in 148,149Gd and 151,152Dy.\",\n",
    "\"The decay frequencies of the superdeformed bands in 150Gd and 151Tb exhibit notable distinctions when compared to the frequencies observed in 148,149Gd and 151,152Dy.\",\n",
    "\"Furthermore, the frequencies of decay from the superdeformed bands in 150Gd and 151Tb are considerably dissimilar from those observed in 148,149Gd and 151,152Dy.\",\n",
    "\"In addition, the decay frequencies originating from the superdeformed bands in 150Gd and 151Tb stand out as markedly different from the frequencies observed in 148,149Gd and 151,152Dy.\",\n",
    "\"Also, it is worth noting that the frequencies of de-excitation from the superdeformed bands in 150Gd and 151Tb show distinct differences when compared to the observations in 148,149Gd and 151,152Dy.\"],\n",
    "[\"Every transition in the superdeformed bands coincided with the other members of the band. The spectra shown in figure 1 represent the combined spectra coinciding with transitions in the superdeformed bands of 150Gd and 151Tb.\",\n",
    "\"All transitions were in synchronization with the other members of the band, and the spectra displayed in figure 1 are the collective spectra corresponding to transitions in the superdeformed bands of 150Gd and 151Tb.\",\n",
    "\"Each transition was observed to be in coincidence with the other members of the band. In figure 1, the spectra are obtained by combining the spectra corresponding to transitions in the superdeformed bands of 150Gd and 151Tb.\",\n",
    "\"Every individual transition aligned with the other band members, and the spectra visualized in figure 1 comprise the total spectra coinciding with transitions in the superdeformed bands of 150Gd and 151Tb, respectively.\",\n",
    "\"In figure 1, the spectra represent the combined results of transitions in the superdeformed bands of 150Gd and 151Tb, with each transition aligning with the other members of the band.\"],\n",
    "[\"Despite the absence of specific transitions linking the superdeformed bands to established yrast states, the study managed to calculate the average entry spin for the yrast states of 150Gd. This calculation was based on measuring the intensity of the superdeformed band using spectra gated on known yrast transitions.\",\n",
    "\"Although no direct connections were discovered between the superdeformed bands and recognized yrast states, the researchers successfully determined the average entry spin for the yrast states in the case of 150Gd. This determination was made possible by measuring the intensity of the superdeformed band through spectra gated on known yrast transitions.\",\n",
    "\"While discrete transitions between the superdeformed bands and established yrast states were not detected, the study managed to derive the average entry spin for the yrast states of 150Gd. The calculation relied on measuring the intensity of the superdeformed band through spectra gated on known yrast transitions.\",\n",
    "\"Although no specific transitions were identified as connections between the superdeformed bands and established yrast states, the study successfully obtained the average entry spin for the yrast states in the case of 150Gd. This calculation involved measuring the intensity of the superdeformed band using spectra gated on known yrast transitions.\",\n",
    "\"Despite the absence of discrete connections linking the superdeformed bands to known yrast states, the study managed to calculate the average entry spin for the yrast states of 150Gd. This was accomplished by measuring the intensity of the superdeformed band through spectra gated on known yrast transitions.\"],\n",
    "[\"Under the assumption that the superdeformed band becomes yrast only above spin 50 h, it is predicted to de-excite at an excitation energy of approximately 3 MeV above the yrast state, primarily due to its significant moment of inertia.\",\n",
    "\"If we assume that the superdeformed band attains the status of being yrast beyond spin 50 h, then it is expected to undergo de-excitation at an excitation energy of roughly 3 MeV above the yrast state, mainly because of its considerable moment of inertia.\",\n",
    "\"Given the assumption that the superdeformed band does not become yrast until reaching a spin value of 50 h, it is projected to de-excite when the excitation energy is approximately 3 MeV above the yrast state, largely due to its substantial moment of inertia.\",\n",
    "\"Based on the assumption that the superdeformed band only becomes yrast after surpassing a spin value of 50 h, it is expected to de-excite at an excitation energy of approximately 3 MeV above the yrast state, primarily due to its large moment of inertia.\",\n",
    "\"If we assume that the superdeformed band achieves the status of being yrast beyond a spin value of 50 h, it is estimated to de-excite at an excitation energy of roughly 3 MeV above the yrast state due to its significant moment of inertia.\"]]\n"
   ]
  },
  {
   "cell_type": "code",
   "execution_count": 14,
   "metadata": {},
   "outputs": [],
   "source": [
    "bing = [\"Bengtsson et al. calculated the l2 moments of inertia for several superdeformed bands and showed that the variation in the total l2 value as a function of frequency is related to which high-N orbitals are occupied.\",\n",
    "\"The frequencies of de-excitation from the superdeformed bands in 150Gd and 151Tb are different from those observed in 148,149Gd and 151,152Dy.\",\n",
    "\"Each transition was in coincidence with the other members of the band and the spectra in fig. 1 are sums of spectra in coincidence with transitions in the superdeformed bands of 150Gd and 151Tb respectively.\",\n",
    "\"Although no discrete transitions were found to link the superdeformed bands to known yrast states, it was possible to obtain a value for the average entry spin to the yrast states in the case of 150Gd by measuring the intensity of the superdeformed band obtained from spectra gated on known yrast transitions.\",\n",
    "\"Assuming that the superdeformed band does not become yrast until above spin 50 h then, due to its large moment of inertia, it is estimated to de-excite at an excitation energy of around 3 MeV above yrast.\"\n",
    "]"
   ]
  },
  {
   "cell_type": "code",
   "execution_count": 15,
   "metadata": {},
   "outputs": [],
   "source": [
    "bing_compiled = [[\"The l2 moments of inertia for various superdeformed bands were computed by Bengtsson et al. and they demonstrated that the change in the total l2 amount with frequency depends on which high-N orbitals are filled.\",\n",
    "\"By calculating the l2 moments of inertia of several superdeformed bands, Bengtsson et al. showed that the total l2 value varies with frequency according to the occupation of high-N orbitals.\",\n",
    "\"Bengtsson et al. calculated the l2 moments of inertia for different superdeformed bands and found that the occupation of high-N orbitals affects the variation of the total l2 value as a function of frequency.\",\n",
    "\"The variation in the total l2 value with frequency is influenced by which high-N orbitals are occupied, as shown by Bengtsson et al. who calculated the l2 moments of inertia for several superdeformed bands.\",\n",
    "\"Which high-N orbitals are occupied determines the variation in the total l2 value with frequency, as demonstrated by Bengtsson et al. who computed the l2 moments of inertia for various superdeformed bands.\"],\n",
    "[\"The frequencies of de-excitation from the superdeformed bands in 150Gd and 151Tb differ significantly from those seen in 148,149Gd and 151,152Dy.\",\n",
    "\"There is a marked difference in the frequencies of de-excitation from the superdeformed bands in 150Gd and 151Tb compared to those observed in 148,149Gd and 151,152Dy.\",\n",
    "\"The frequencies of de-excitation from the superdeformed bands in 150Gd and 151Tb are not the same as those observed in 148,149Gd and 151,152Dy, they are much different.\",\n",
    "\"Compared to those seen in 148,149Gd and 151,152Dy, the frequencies of de-excitation from the superdeformed bands in 150Gd and 151Tb are very different.\",\n",
    "\"The frequencies of de-excitation from the superdeformed bands in 150Gd and 151Tb vary considerably from those observed in 148,149Gd and 151,152Dy.\"],\n",
    "[\"All transitions were coincident with the other members of the band and the spectra in fig. 1 are sums of spectra coincident with transitions in the superdeformed bands of 150Gd and 151Tb respectively.\",\n",
    "\"The spectra in fig. 1 are sums of spectra coincident with transitions in the superdeformed bands of 150Gd and 151Tb respectively, and all transitions were coincident with the other members of the band.\",\n",
    "\"Each transition coincided with the other members of the band and the spectra in fig. 1 are sums of spectra that coincide with transitions in the superdeformed bands of 150Gd and 151Tb respectively.\",\n",
    "\"The spectra in fig. 1 are sums of spectra that coincide with transitions in the superdeformed bands of 150Gd and 151Tb respectively, and each transition coincided with the other members of the band.\",\n",
    "\"All transitions coincided with the other members of the band and the spectra in fig. 1 are the result of adding spectra that coincide with transitions in the superdeformed bands of 150Gd and 151Tb respectively.\"],\n",
    "[\"No discrete transitions were found to connect the superdeformed bands to known yrast states, but it was possible to get a value for the average entry spin to the yrast states for 150Gd. This was done by measuring the intensity of the superdeformed band from spectra gated on known yrast transitions.\",\n",
    "\"It was possible to measure the intensity of the superdeformed band from spectra gated on known yrast transitions and get a value for the average entry spin to the yrast states for 150Gd, even though no discrete transitions were found to link the superdeformed bands to known yrast states.\",\n",
    "\"By measuring the intensity of the superdeformed band from spectra gated on known yrast transitions, a value for the average entry spin to the yrast states for 150Gd was obtained, even though no discrete transitions were found to connect the superdeformed bands to known yrast states.\",\n",
    "\"Even though no discrete transitions were found to link the superdeformed bands to known yrast states, a value for the average entry spin to the yrast states for 150Gd was obtained by measuring the intensity of the superdeformed band from spectra gated on known yrast transitions.\",\n",
    "\"A value for the average entry spin to the yrast states for 150Gd was obtained by measuring the intensity of the superdeformed band from spectra gated on known yrast transitions, even though no discrete transitions were found to connect the superdeformed bands to known yrast states.\"],\n",
    "[\"Assuming that the superdeformed band does not become yrast until above spin 50 h then, because of its large moment of inertia, it is estimated to de-excite at an excitation energy of around 3 MeV above yrast.\",\n",
    "\"Because of its large moment of inertia, it is estimated that the superdeformed band does not de-excite until an excitation energy of around 3 MeV above yrast, assuming that it does not become yrast until above spin 50 h.\",\n",
    "\"It is estimated that, because of its large moment of inertia, the superdeformed band de-excites at an excitation energy of around 3 MeV above yrast, assuming that it does not become yrast until above spin 50 h.\",\n",
    "\"Assuming that it does not become yrast until above spin 50 h, it is estimated that, because of its large moment of inertia, the superdeformed band de-excites at an excitation energy of around 3 MeV above yrast.\",\n",
    "\"It is estimated that the superdeformed band de-excites at an excitation energy of around 3 MeV above yrast, because of its large moment of inertia, assuming that it does not become yrast until above spin 50 h.\"]]\n"
   ]
  },
  {
   "cell_type": "code",
   "execution_count": 16,
   "metadata": {},
   "outputs": [],
   "source": [
    "bard = [\"Bengtsson et al. have found that the way the total l2 value changes as a function of frequency depends on which high-N orbitals are occupied.\", \n",
    "\"The frequencies of de-excitation from the superdeformed bands in 150Gd and 151Tb are significantly different from those observed in 148,149Gd and 151,152Dy.\",\n",
    "\"Each transition was accompanied by other transitions in the same band, and the spectra in Figure 1 are sums of spectra that were triggered by transitions in the superdeformed bands of 150Gd and 151Tb.\",\n",
    "\"Although no discrete transitions were found that connect the superdeformed bands to known yrast states, it was possible to obtain a value for the average entry spin to the yrast states in the case of 150Gd. This was done by measuring the intensity of the superdeformed band in spectra that were triggered by known yrast transitions.\",\n",
    "\"If we assume that the superdeformed band does not become yrast until a spin of 50 h, then, due to its large moment of inertia, it is estimated to de-excite at an excitation energy of around 3 MeV above yrast.\"\n",
    "]"
   ]
  },
  {
   "cell_type": "code",
   "execution_count": 17,
   "metadata": {},
   "outputs": [],
   "source": [
    "bard_compiled = [[\"Bengtsson et al. have found that the way the total l2 value changes as a function of frequency depends on which high-N orbitals are occupied\",\n",
    "\"Bengtsson et al. have demonstrated that the relationship between the total l2 value and frequency is influenced by the high-N orbitals that are occupied.\",\n",
    "\"Bengtsson et al. have established that the variation in the total l2 value as a function of frequency is a consequence of the high-N orbitals that are occupied.\",\n",
    "\"Bengtsson et al. have concluded that the total l2 value is related to the high-N orbitals that are occupied, and that this relationship changes as a function of frequency.\",\n",
    "\"Bengtsson et al. have reported that the total l2 value is dependent on the high-N orbitals that are occupied, and that this dependency changes as a function of frequency.\"],\n",
    "[\"The frequencies of de-excitation from the superdeformed bands in 150Gd and 151Tb are significantly different from those observed in 148,149Gd and 151,152Dy.\",\n",
    "\"The de-excitation frequencies of the superdeformed bands in 150Gd and 151Tb are noticeably different from those observed in 148,149Gd and 151,152Dy.\",\n",
    "\"The frequencies at which the superdeformed bands in 150Gd and 151Tb de-excite are markedly distinct from those observed in 148,149Gd and 151,152Dy.\",\n",
    "\"The superdeformed bands in 150Gd and 151Tb de-excite at frequencies that are significantly different from those observed in 148,149Gd and 151,152Dy.\",\n",
    "\"The de-excitation frequencies of the superdeformed bands in 150Gd and 151Tb are noticeably distinct from those observed in 148,149Gd and 151,152Dy, in addition to this.\"],\n",
    "[\"Each transition was accompanied by other transitions in the same band, and the spectra in Figure 1 are sums of spectra that were triggered by transitions in the superdeformed bands of 150Gd and 151Tb.\",\n",
    "\"Every transition was accompanied by other transitions in the same band, and the spectra in Figure 1 are the sum of spectra that were triggered by transitions in the superdeformed bands of 150Gd and 151Tb.\",\n",
    "\"The spectra in Figure 1 are the sum of spectra that were triggered by transitions in the superdeformed bands of 150Gd and 151Tb, and each transition was accompanied by other transitions in the same band.\",\n",
    "\"The spectra in Figure 1 are the sum of spectra that were triggered by transitions in the superdeformed bands of 150Gd and 151Tb, and this is in addition to the fact that each transition was accompanied by other transitions in the same band.\",\n",
    "\"The spectra in Figure 1 are the sum of spectra that were triggered by transitions in the superdeformed bands of 150Gd and 151Tb, and each transition was accompanied by other transitions in the same band.\"],\n",
    "[\"Although no discrete transitions were found that connect the superdeformed bands to known yrast states, it was still possible, in the case of 150Gd, to obtain a value for the average entry spin to the yrast states.\",\n",
    "\"Even though no discrete transitions were found to connect the superdeformed bands to known yrast states, it was still possible, in the case of 150Gd, to obtain a value for the average entry spin to the yrast states.\",\n",
    "\"The absence of discrete transitions that connect the superdeformed bands to known yrast states did not prevent the determination of the average entry spin to the yrast states in the case of 150Gd.\",\n",
    "\"Despite the lack of discrete transitions that connect the superdeformed bands to known yrast states, it was still possible to obtain a value for the average entry spin to the yrast states in the case of 150Gd.\",\n",
    "\"The fact that no discrete transitions were found to connect the superdeformed bands to known yrast states did not preclude the determination of the average entry spin to the yrast states in the case of 150Gd.\"],\n",
    "[\"If we assume that the superdeformed band does not become yrast until a spin of 50 h, then, due to its large moment of inertia, it is estimated to de-excite at an excitation energy of around 3 MeV above yrast.\",\n",
    "\"Assuming that the superdeformed band does not become yrast until a spin of 50 h, and given its large moment of inertia, it is estimated to de-excite at an excitation energy of around 3 MeV above yrast.\",\n",
    "\"We can estimate that the superdeformed band will de-excite at an excitation energy of around 3 MeV above yrast, if we assume that it does not become yrast until a spin of 50 h, and given its large moment of inertia.\",\n",
    "\"The superdeformed band is estimated to de-excite at an excitation energy of around 3 MeV above yrast, based on the assumption that it does not become yrast until a spin of 50 h, and its large moment of inertia.\",\n",
    "\"The superdeformed band is estimated to de-excite at an excitation energy of around 3 MeV above yrast, which is based on the assumption that it does not become yrast until a spin of 50 h, and its large moment of inertia.\"]]\n"
   ]
  },
  {
   "cell_type": "code",
   "execution_count": 18,
   "metadata": {},
   "outputs": [
    {
     "name": "stdout",
     "output_type": "stream",
     "text": [
      "['The variation in the total l2 value is related to which high-N orbitals are occupied, as shown by the calculation of the l2 moments of inertia for several superdeformed bands.', 'The variation in the total l2 value as a function of Frequency is related to which high-N orbitals are occupied, as shown by the calculated l2 moments of inertia for several superdeformed bands.', 'The variation in the total l2 value as a function of frequency is related to which high-N orbitals are occupied, as shown by the calculated l2 moments of inertia for several superdeformed bands.', 'The variation in the total l2 value is related to which high-N orbitals are occupied, as shown by the calculation of the l2 moments of inertia for several superde formed bands.', 'The variation in the total l2 value as a function of frequencies is related to which high-N orbitals are occupied, as shown by the calculated l2 moments of inertia for several superdeformed bands.']\n",
      "['The frequencies of de-excitation from the superdeformed bands in 150Gd and 151Tb are different.', 'The frequencies of de-excitation from the superdeformed bands in 150Gd and 151Tb are different from those in the other bands.', 'The frequencies of de-excitation from the superdeformed bands are different.', 'The frequencies of de-excitation from the superdeformed bands in 150Gd and 151Tb are vastly different from those in the other bands.', 'The frequencies of de-excitation from the superdeformed bands in 150Gd and 151Tb are different from those observed in the other bands.']\n",
      "['The transitions in the superdeformed bands of 150Gd and 151Tb were in correlation with the other members of the band.', 'The transitions in the superdeformed bands of 150Gd and 151Tb were in close proximity to the other members of the band.', 'The transitions in the superdeformed bands of 150Gd and 151Tb were related to the other members of the band.', 'The transitions in the superdeformed bands of 150Gd and 151Tb were in coincidence with the other members of the band.', 'The transitions in the superdeformed bands of 150Gd and 151Tb were in close correlation with the other members of the band.']\n",
      "['It was possible to get a value for the average entry spin to the yrast states by measuring the intensity of the superdeformed.', 'It was possible to get a value for the average entry spin to the yrast states by measuring the intensity of the superdeformed bands.', 'It is possible to get a value for the average entry spin to the yrast states by measuring the intensity of the superdeformed.', 'It was possible to get a value for the average entry spin to the yrast states by measuring the intensity of the superde formed bands.', 'It is possible to get a value for the average entry spin to the yrast states by measuring the intensity of the superdeformed bands.']\n",
      "['Due to its large moment of inertia, the band is estimated to de-excite at an energy of around 3 MeV above yrast.', 'Due to its large moment of inertia, the band is estimated to de-excite at an energy of 3 MeV above yrast.', 'Due to its large moment of inertia, the superdeformed band is estimated to de-excite at an energy of around 3 MeV above yrast.', 'Due to the large moment of inertia, the band is estimated to de-excite at an energy of around 3 MeV above yrast.', 'Due to its large moment of inertia, the superdeformed band is estimated to de-excite at an energy of 3 MeV above yrast.']\n"
     ]
    }
   ],
   "source": [
    "# References:\n",
    "# https://pub.towardsai.net/how-to-do-effective-paraphrasing-using-huggingface-and-diverse-beam-search-t5-pegasus-229ca998d229\n",
    "# \n",
    "\n",
    "from transformers import PegasusForConditionalGeneration, PegasusTokenizer\n",
    "import torch\n",
    "\n",
    "paraphraser = \"tuner007/pegasus_paraphrase\"\n",
    "\n",
    "import warnings\n",
    "warnings.filterwarnings(\"ignore\")\n",
    "\n",
    "def initParaphraser(model_name):\n",
    "    torch_device = 'cuda' if torch.cuda.is_available() else 'cpu'\n",
    "    tokenizer = PegasusTokenizer.from_pretrained(model_name)\n",
    "    model = PegasusForConditionalGeneration.from_pretrained(model_name).to(torch_device)\n",
    "    \n",
    "    return torch_device,tokenizer,model\n",
    "\n",
    "def generateParaphrases(sent,torch_device,tokenizer,model,temperature,beams,variations):    \n",
    "    batch = tokenizer.prepare_seq2seq_batch(sent,truncation=True,padding='longest',max_length=60, return_tensors=\"pt\").to(torch_device)\n",
    "    translated = model.generate(**batch,max_length=60,num_beams=beams, num_return_sequences=variations, temperature=temperature, max_time = None, early_stopping = True)\n",
    "    paral = tokenizer.batch_decode(translated, skip_special_tokens=True)\n",
    "\n",
    "    return paral\n",
    "\n",
    "torch_device,tokenizer,model = initParaphraser(paraphraser)\n",
    "temperature = 1.5\n",
    "beams = 10\n",
    "variations = 5\n",
    "\n",
    "for sent in sentences:\n",
    "    paral = generateParaphrases(sent,torch_device,tokenizer,model,temperature,beams,variations)\n",
    "    print(paral)"
   ]
  },
  {
   "cell_type": "code",
   "execution_count": 19,
   "metadata": {},
   "outputs": [],
   "source": [
    "pegasus = ['The variation in the total l2 value is related to which high-N orbitals are occupied, as shown by the calculation of the l2 moments of inertia for several superdeformed bands.',\n",
    "'The frequencies of de-excitation from the superdeformed bands in 150Gd and 151Tb are different.',\n",
    "'The transitions in the superdeformed bands of 150Gd and 151Tb were in correlation with the other members of the band.',\n",
    "'It was possible to get a value for the average entry spin to the yrast states by measuring the intensity of the superdeformed.',\n",
    "'Due to its large moment of inertia, the band is estimated to de-excite at an energy of around 3 MeV above yrast.']"
   ]
  },
  {
   "cell_type": "code",
   "execution_count": 20,
   "metadata": {},
   "outputs": [],
   "source": [
    "pegasus_compiled = [['The variation in the total l2 value is related to which high-N orbitals are occupied, as shown by the calculation of the l2 moments of inertia for several superdeformed bands.', 'The variation in the total l2 value as a function of Frequency is related to which high-N orbitals are occupied, as shown by the calculated l2 moments of inertia for several superdeformed bands.', 'The variation in the total l2 value as a function of frequency is related to which high-N orbitals are occupied, as shown by the calculated l2 moments of inertia for several superdeformed bands.', 'The variation in the total l2 value is related to which high-N orbitals are occupied, as shown by the calculation of the l2 moments of inertia for several superde formed bands.', 'The variation in the total l2 value as a function of frequencies is related to which high-N orbitals are occupied, as shown by the calculated l2 moments of inertia for several superdeformed bands.'],\n",
    "['The frequencies of de-excitation from the superdeformed bands in 150Gd and 151Tb are different.', 'The frequencies of de-excitation from the superdeformed bands in 150Gd and 151Tb are different from those in the other bands.', 'The frequencies of de-excitation from the superdeformed bands are different.', 'The frequencies of de-excitation from the superdeformed bands in 150Gd and 151Tb are vastly different from those in the other bands.', 'The frequencies of de-excitation from the superdeformed bands in 150Gd and 151Tb are different from those observed in the other bands.'],\n",
    "['The transitions in the superdeformed bands of 150Gd and 151Tb were in correlation with the other members of the band.', 'The transitions in the superdeformed bands of 150Gd and 151Tb were in close proximity to the other members of the band.', 'The transitions in the superdeformed bands of 150Gd and 151Tb were related to the other members of the band.', 'The transitions in the superdeformed bands of 150Gd and 151Tb were in coincidence with the other members of the band.', 'The transitions in the superdeformed bands of 150Gd and 151Tb were in close correlation with the other members of the band.'],\n",
    "['It was possible to get a value for the average entry spin to the yrast states by measuring the intensity of the superdeformed.', 'It was possible to get a value for the average entry spin to the yrast states by measuring the intensity of the superdeformed bands.', 'It is possible to get a value for the average entry spin to the yrast states by measuring the intensity of the superdeformed.', 'It was possible to get a value for the average entry spin to the yrast states by measuring the intensity of the superde formed bands.', 'It is possible to get a value for the average entry spin to the yrast states by measuring the intensity of the superdeformed bands.'],\n",
    "['Due to its large moment of inertia, the band is estimated to de-excite at an energy of around 3 MeV above yrast.', 'Due to its large moment of inertia, the band is estimated to de-excite at an energy of 3 MeV above yrast.', 'Due to its large moment of inertia, the superdeformed band is estimated to de-excite at an energy of around 3 MeV above yrast.', 'Due to the large moment of inertia, the band is estimated to de-excite at an energy of around 3 MeV above yrast.', 'Due to its large moment of inertia, the superdeformed band is estimated to de-excite at an energy of 3 MeV above yrast.']]"
   ]
  },
  {
   "cell_type": "code",
   "execution_count": 21,
   "metadata": {},
   "outputs": [],
   "source": [
    "from parrot import Parrot\n",
    "import torch\n",
    "import warnings\n",
    "warnings.filterwarnings(\"ignore\")\n",
    "# Only Init Once\n",
    "parrot = Parrot(model_tag=\"prithivida/parrot_paraphraser_on_T5\", use_gpu=False)\n"
   ]
  },
  {
   "cell_type": "code",
   "execution_count": 22,
   "metadata": {},
   "outputs": [
    {
     "name": "stdout",
     "output_type": "stream",
     "text": [
      "[('for several superdeformed bands bengtsson et al have calculated the l2 moments of inertia they have shown that the variation in the total l2 value as a function of the frequency is related', 104), ('for several superdeformed bands bengtsson et al have calculated the l2 moments of inertia they have shown that the variation in the total l2 value is related to which high-n orbitals are occupied', 89), ('for several superdeformed bands bengtsson et al have calculated the l2 moments of inertia they have shown that the variation in the total l2 value as a function of the frequency is related to which the high-n orbit', 86), ('bengtsson et al have calculated the l2 moments of inertia for several superdeformed bands and have shown that the variation in the total l2 value as a function of the frequency is related to which high-n orbitals are ', 26), ('bengtsson et al have calculated the l2 moments of inertia for several superdeformed bands and have shown that the variation in the total l2 value as a function of frequency is related to which high-n orbitals are ', 22), ('bengtsson et al have calculated the l2 moments of inertia for several superdeformed bands and have shown that the variation in the total l2 value as a function of frequency is related to which high-n orbitals are occupied', 14)]\n",
      "[('further the frequency of de-excitation of superdeformed bands in 150gd and 151tb is markedly different from those observed in 148149gd and 151152dy', 34), ('further the frequency of de-excitation of superdeformed bands in 150gd and 151tb are markedly different from those observed in 148149gd and 151152dy ', 31), ('further the frequency of de-excitation of superdeformed bands in 150gd and 151tb are markedly different from those observed in 148149gd and 151152dy', 31), ('further the frequency of de-excitation from superdeformed bands in 150gd and 151tb are markedly different from those observed in 148149gd and 151152dy', 28), ('further the frequency of de-excitation from superdeformed bands in 150gd and 151tb are markedly different from those observed in 148149gd and 151152dy ', 28), ('in addition the frequencies of de-excitation from superdeformed bands in 150gd and 151tb are markedly different from those observed in 148149gd and 151152dy', 17)]\n",
      "[('in coincidence with the other members of the band each transition was observed and the spectra shown in fig 1 are sums of spectra in coincidence with transitions in the superdeformed bands of 150gd and 151', 84), ('in coincidence with the other members of the band each transition was observed and the spectra shown in fig 1 are sums of spectra in coincidence with transitions in the superdeformed bands 150gd and 151tb respectively', 72), ('each transition was in coincidence with the other members of the band and the spectra in fig 1 are sums of spectra in coincidence with transitions in the superdeformed bands 150gd and 151tb respectively', 17), ('each transition was in coincidence with the other members of the band and the spectra in fig 1 are sums of spectra in coincidence with transitions in the superdeformed bands of 150gd and 151tb respectively ', 14), ('each transition was in coincidence with the other members of the band and the spectra in fig 1 are sums of spectra in coincidence with transitions in the superdeformed bands of 150gd and 151tb respectively', 14)]\n",
      "[('although there have been no discrete transitions found to link the superdeformed bands to known yrast states it was possible in the case of 150gd to obtain a value for the average entry spin to the yrast states which was established by measuring the intensity', 111), ('although there have been no discrete transitions found to link the superdeformed bands to known yrast states it was possible in the case of 150gd to obtain a value for the average entry spin to the yrast states which was established by measuring the intensity of', 108), ('although there have been no discrete transitions found to link the superdeformed bands to known yrast states it was possible in the case of 150gd to obtain a value for the average entry spin to the yrast states which was established by measuring the intensity of the', 104), ('although there have been no discrete transitions found to link the superdeformed bands to known yrast states it was possible in the case of 150gd to obtain a value for the average entry spin to the yrast states which was established by measuring the intensity of the super', 98), ('although no discrete transitions were found to link the superdeformed bands to known yrast states it was possible in the case of 150gd to obtain a value for the average entry spin to the yrast states which was established by measuring the intensity of the superdeformed band obtained', 63), ('although no discrete transitions were found to link the superdeformed bands to known yrast states it was possible in the case of 150gd to obtain a value for the average entry spin to the yrast states which was established by measuring the intensity of the superdeformed band obtained from', 58)]\n",
      "[('on assumption that the superdeformed band is not yrast until above spin 50 h then due to its large moment of inertia it is estimated to de-excite at an excitation energy of around 3 mev above y', 31), ('on assumption that the superdeformed band is not yrast until above spin 50 h then due to its large moment of inertia it is estimated to de-excite at an excitation energy of about 3 mev above yrast', 30), ('on assumption that the superdeformed band is not yrast until above spin 50 h then due to its large moment of inertia it is estimated to de-excite with an excitation energy of around 3 mev above yrast', 30), ('on assumption that the superdeformed band is not yrast until above spin 50 h then due to its large moment of inertia it is estimated to de-excite at an excitation energy of around 3 mev above yrast', 27), ('on the assumption that the superdeformed band does not become yrast until above spin 50 h then due to its large moment of inertia it is estimated to de-excite at an excitation energy of around 3 mev above y', 17)]\n"
     ]
    }
   ],
   "source": [
    "for phrase in sentences:\n",
    "    para_phrases = parrot.augment(input_phrase=phrase, \n",
    "                                diversity_ranker=\"levenshtein\", #levenshtein distance\n",
    "                                do_diverse=True, \n",
    "                                max_return_phrases = 6,\n",
    "                                adequacy_threshold = 0.50, \n",
    "                                fluency_threshold = 0.5\n",
    "    )\n",
    "    print(para_phrases)"
   ]
  },
  {
   "cell_type": "code",
   "execution_count": 23,
   "metadata": {},
   "outputs": [],
   "source": [
    "parrot = ['bengtsson et al have calculated the l2 moments of inertia for several superdeformed bands and have shown that the variation in the total l2 value as a function of the frequency is related',\n",
    "'the frequency of de-excitation from the superdeformed bands in 150gd and 151tb are in addition markedly different from those observed in 148149gd and 151152dy',\n",
    "'the spectra of fig 1 are sums of spectra in coincidence with transitions in the superdeformed bands of 150gd and 151tb respectively',\n",
    "'although no discrete transitions were found to link the superdeformed bands to known yrast states it was possible in the case of 150gd to obtain a value for the average entry spin to the yrast states by measuring the intensity of the',\n",
    "'the superdeformed band is estimated to de-excite at an excitation energy of around 3 mev above yrast on the assumption that it does not become yrast until above spin 50 h']"
   ]
  },
  {
   "cell_type": "code",
   "execution_count": 24,
   "metadata": {},
   "outputs": [],
   "source": [
    "parrot_compiled = [['as a function of frequency bengtsson et al have calculated the l2 moments of inertia for several superdeformed bands and have shown that the variation in the total l2 value as', 'as a function of frequency bengtsson et al have calculated the l2 moments of inertia for several superdeformed bands and have shown that the variation in the total l2 value as ', 'as a function of frequency bengtsson et al have calculated the l2 moments of inertia for several superdeformed bands and have shown that the variation in the total l2 value as a', 'as a function of frequency bengtsson et al have calculated the l2 moments of inertia for several superdeformed bands and have shown that the variation in the total l2 value as is', 'as a function of frequency bengtsson et al have calculated the l2 moments of inertia for several superdeformed bands and have shown that the variation in the total l2 value as a function of'],\n",
    "['de-excitation frequencies from the superdeformed bands in 150gd and 151tb are in addition markedly different from those observed in 148149gd and 151152dy respectively', 'de-excitation from the superdeformed bands in 150gd and 151tb are in addition markedly different from those observed in 148149gd and 151152dy', 'de-excitation frequencies from superdeformed bands in 150gd and 151tb are in addition markedly different from those observed in 148149gd and 151152dy', 'de-excitation frequency from the superdeformed bands in 150gd and 151tb are in addition markedly different from those observed in 148149gd and 151152dy', 'de-excitation frequencies from the superdeformed bands in 150gd and 151tb are in addition markedly different from those observed in 148149gd and 151152dy'],\n",
    "['spectra of fig 1 are sums of spectra in coincidence with transitions in the superdeformed bands 150gd and 151tb respectively each transition was in coincidence with the other members of', 'spectra of fig 1 are sums of spectra in coincidence with transitions in the superdeformed bands 150gd and 151tb respectively each transition was in coincidence with other members of the band', 'spectra of fig 1 are sums of spectra in coincidence with transitions in superdeformed bands 150gd and 151tb respectively each transition was in coincidence with the other members of the band', 'spectra of fig 1 are sums of spectra in coincidence with transitions in the superdeformed bands 150gd and 151tb respectively each transition was in coincidence', 'spectra are sums of spectra in coincidence with transitions in the superdeformed bands of 150gd and 151tb respectively'],\n",
    "[\"however it was possible in the case of 150gd to obtain a value for the average entry spin to the yrast states by measuring the intensity of the superdeformed band obtained from spectra gated on known yrast transitions\", \"however it was possible in the case of 150gd to obtain a value for the average entry spin to the yrast states by measuring the intensity of the superdeformed band obtained from spectra gated on known yrast transitions\", \"however it was possible in the case of 150gd to obtain a value for the average entry spin to the yrast states by measuring the intensity of the superdeformed band obtained from spectra gated on known yrast transitions\", 'however it was possible in the case of 150gd to obtain a value for the average entry spin to the yrast states by measuring the intensity of the superdeformed band obtained from spectra gated on known yrast transitions', 'however it was possible in the case of 150gd to obtain a value for the average entry spin to the yrast states by measuring the intensity of the superdeformed band obtained from spectra gated on known yrast transitions'],\n",
    "[\"the superdeformed band is estimated to de-excite at an excitation energy of around 3 mev above yrast on the assumption that it does not become yrast until above spin 50 h\", \"the superdeformed band is estimated to de-excite at an excitation energy of around 3 mev above yrast on the assumption that it does not become yrast until above spin 50 h\", 'the superdeformed band is estimated to de-excite at an excitation energy of around 3 mev above yrast on the assumption that it does not become yrast until above spin 50 h', 'the superdeformed band is estimated to de-excite at an excitation energy of around 3 mev above yrast on the assumption that it does not become yrast until above spin 50 h','on the assumption that the superdeformed band does not become yrast until above spin 50 h then due to its large moment of inertia it is estimated to de-excite at an excitation energy of around 3 mev above y']]"
   ]
  },
  {
   "attachments": {},
   "cell_type": "markdown",
   "metadata": {},
   "source": [
    "## Testing Variability (Levenshtein Distance & Levenshtein Ratio)"
   ]
  },
  {
   "cell_type": "code",
   "execution_count": 25,
   "metadata": {},
   "outputs": [
    {
     "name": "stdout",
     "output_type": "stream",
     "text": [
      "[30.0, 9.0, 14.0, 65.0]\n",
      "29.5\n",
      "[0.8765432098765432, 0.9451219512195121, 0.9323671497584541, 0.878731343283582]\n",
      "0.908190913534523\n"
     ]
    }
   ],
   "source": [
    "dist = []\n",
    "for comp in zip(gpt4, sentences):\n",
    "    dist.append(levenshteinDistance.levenshteinDistance(comp[0], comp[1]))\n",
    "print(dist)\n",
    "print(np.mean(dist))\n",
    "\n",
    "# Calculate Levenshtein ratio\n",
    "dist = []\n",
    "for comp in zip(gpt4, sentences):\n",
    "    dist.append(ratio(comp[0], comp[1]))\n",
    "print(dist)\n",
    "print(np.mean(dist))"
   ]
  },
  {
   "cell_type": "code",
   "execution_count": 26,
   "metadata": {},
   "outputs": [
    {
     "name": "stdout",
     "output_type": "stream",
     "text": [
      "[18.0, 6.0, 13.0, 8.0, 22.0]\n",
      "13.4\n",
      "[0.92, 0.9634146341463414, 0.9371980676328503, 0.9759036144578314, 0.9047619047619048]\n",
      "0.9402556441997856\n"
     ]
    }
   ],
   "source": [
    "dist = []\n",
    "for comp in zip(gpt3_5, sentences):\n",
    "    dist.append(levenshteinDistance.levenshteinDistance(comp[0], comp[1]))\n",
    "print(dist)\n",
    "print(np.mean(dist))\n",
    "\n",
    "# Calculate Levenshtein ratio\n",
    "dist = []\n",
    "for comp in zip(gpt3_5, sentences):\n",
    "    dist.append(ratio(comp[0], comp[1]))\n",
    "print(dist)\n",
    "print(np.mean(dist))"
   ]
  },
  {
   "cell_type": "code",
   "execution_count": 27,
   "metadata": {},
   "outputs": [
    {
     "name": "stdout",
     "output_type": "stream",
     "text": [
      "[3.0, 4.0, 0.0, 12.0, 3.0]\n",
      "4.4\n",
      "[0.9865470852017937, 0.975609756097561, 1.0, 0.963855421686747, 0.9859154929577465]\n",
      "0.9823855511887697\n"
     ]
    }
   ],
   "source": [
    "dist = []\n",
    "for comp in zip(bing, sentences):\n",
    "    dist.append(levenshteinDistance.levenshteinDistance(comp[0], comp[1]))\n",
    "print(dist)\n",
    "print(np.mean(dist))\n",
    "\n",
    "# Calculate Levenshtein ratio\n",
    "dist = []\n",
    "for comp in zip(bing, sentences):\n",
    "    dist.append(ratio(comp[0], comp[1]))\n",
    "print(dist)\n",
    "print(np.mean(dist))"
   ]
  },
  {
   "cell_type": "code",
   "execution_count": 28,
   "metadata": {},
   "outputs": [
    {
     "name": "stdout",
     "output_type": "stream",
     "text": [
      "[19.0, 4.0, 15.0, 21.0, 6.0]\n",
      "13.0\n",
      "[0.9147982062780269, 0.975609756097561, 0.927536231884058, 0.9367469879518072, 0.971830985915493]\n",
      "0.9453044336253893\n"
     ]
    }
   ],
   "source": [
    "dist = []\n",
    "for comp in zip(bard, sentences):\n",
    "    dist.append(levenshteinDistance.levenshteinDistance(comp[0], comp[1]))\n",
    "print(dist)\n",
    "print(np.mean(dist))\n",
    "\n",
    "# Calculate Levenshtein ratio\n",
    "dist = []\n",
    "for comp in zip(bard, sentences):\n",
    "    dist.append(ratio(comp[0], comp[1]))\n",
    "print(dist)\n",
    "print(np.mean(dist))"
   ]
  },
  {
   "cell_type": "code",
   "execution_count": 29,
   "metadata": {},
   "outputs": [
    {
     "name": "stdout",
     "output_type": "stream",
     "text": [
      "[9.0, 9.0, 18.0, 18.0, 36.0]\n",
      "18.0\n",
      "[0.9596412556053812, 0.9451219512195121, 0.9130434782608695, 0.9457831325301205, 0.8309859154929577]\n",
      "0.9189151466217682\n"
     ]
    }
   ],
   "source": [
    "dist = []\n",
    "for comp in zip(parrot, sentences):\n",
    "    dist.append(levenshteinDistance.levenshteinDistance(comp[0], comp[1]))\n",
    "print(dist)\n",
    "print(np.mean(dist))\n",
    "\n",
    "# Calculate Levenshtein ratio\n",
    "dist = []\n",
    "for comp in zip(parrot, sentences):\n",
    "    dist.append(ratio(comp[0], comp[1]))\n",
    "print(dist)\n",
    "print(np.mean(dist))"
   ]
  },
  {
   "cell_type": "code",
   "execution_count": 30,
   "metadata": {},
   "outputs": [
    {
     "name": "stdout",
     "output_type": "stream",
     "text": [
      "[33.0, 12.0, 27.0, 37.0, 21.0]\n",
      "26.0\n",
      "[0.852017937219731, 0.926829268292683, 0.8695652173913043, 0.8885542168674698, 0.9014084507042254]\n",
      "0.8876750180950828\n"
     ]
    }
   ],
   "source": [
    "dist = []\n",
    "for comp in zip(pegasus, sentences):\n",
    "    dist.append(levenshteinDistance.levenshteinDistance(comp[0], comp[1]))\n",
    "print(dist)\n",
    "print(np.mean(dist))\n",
    "\n",
    "# Calculate Levenshtein ratio\n",
    "dist = []\n",
    "for comp in zip(pegasus, sentences):\n",
    "    dist.append(ratio(comp[0], comp[1]))\n",
    "print(dist)\n",
    "print(np.mean(dist))"
   ]
  },
  {
   "attachments": {},
   "cell_type": "markdown",
   "metadata": {},
   "source": [
    "## Testing Semantic Similarity"
   ]
  },
  {
   "cell_type": "code",
   "execution_count": 31,
   "metadata": {},
   "outputs": [],
   "source": [
    "from sentence_transformers import SentenceTransformer\n",
    "\n",
    "# We first load our model\n",
    "model = SentenceTransformer('all-MiniLM-L6-v2')"
   ]
  },
  {
   "cell_type": "code",
   "execution_count": 32,
   "metadata": {},
   "outputs": [
    {
     "name": "stdout",
     "output_type": "stream",
     "text": [
      "[0.96167064, 0.9549844, 0.9367014, 0.94444335] 0.9494499\n"
     ]
    }
   ],
   "source": [
    "# We compute embeddings for the original sentence and the paraphrases\n",
    "embeddings = model.encode(sentences + gpt4)\n",
    "\n",
    "similarity = []\n",
    "for i, paraphrase in enumerate(gpt4):\n",
    "    original_embedding = embeddings[i]\n",
    "    paraphrase_embedding = embeddings[i + 5]\n",
    "    # Cosine similarity is a good measure for semantic similarity\n",
    "    similarity.append(np.inner(original_embedding, paraphrase_embedding) / (np.linalg.norm(original_embedding) * np.linalg.norm(paraphrase_embedding)))\n",
    "print(similarity, np.mean(similarity))"
   ]
  },
  {
   "cell_type": "code",
   "execution_count": 33,
   "metadata": {},
   "outputs": [
    {
     "name": "stdout",
     "output_type": "stream",
     "text": [
      "[0.9551567, 0.9860072, 0.9488449, 0.98935956, 0.95792365] 0.9674584\n"
     ]
    }
   ],
   "source": [
    "# We compute embeddings for the original sentence and the paraphrases\n",
    "embeddings = model.encode(sentences + gpt3_5)\n",
    "\n",
    "similarity = []\n",
    "for i, paraphrase in enumerate(gpt3_5):\n",
    "    original_embedding = embeddings[i]\n",
    "    paraphrase_embedding = embeddings[i + 5]\n",
    "    # Cosine similarity is a good measure for semantic similarity\n",
    "    similarity.append(np.inner(original_embedding, paraphrase_embedding) / (np.linalg.norm(original_embedding) * np.linalg.norm(paraphrase_embedding)))\n",
    "print(similarity, np.mean(similarity))"
   ]
  },
  {
   "cell_type": "code",
   "execution_count": 34,
   "metadata": {},
   "outputs": [
    {
     "name": "stdout",
     "output_type": "stream",
     "text": [
      "[0.9951026, 0.98992366, 1.0, 0.98992777, 0.9914963] 0.9932901\n"
     ]
    }
   ],
   "source": [
    "# We compute embeddings for the original sentence and the paraphrases\n",
    "embeddings = model.encode(sentences + bing)\n",
    "\n",
    "similarity = []\n",
    "for i, paraphrase in enumerate(bing):\n",
    "    original_embedding = embeddings[i]\n",
    "    paraphrase_embedding = embeddings[i + 5]\n",
    "    # Cosine similarity is a good measure for semantic similarity\n",
    "    similarity.append(np.inner(original_embedding, paraphrase_embedding) / (np.linalg.norm(original_embedding) * np.linalg.norm(paraphrase_embedding)))\n",
    "print(similarity, np.mean(similarity))"
   ]
  },
  {
   "cell_type": "code",
   "execution_count": 35,
   "metadata": {},
   "outputs": [
    {
     "name": "stdout",
     "output_type": "stream",
     "text": [
      "[0.69667846, 0.9916469, 0.9522022, 0.9799916, 0.9937947] 0.9228628\n"
     ]
    }
   ],
   "source": [
    "# We compute embeddings for the original sentence and the paraphrases\n",
    "embeddings = model.encode(sentences + bard)\n",
    "\n",
    "similarity = []\n",
    "for i, paraphrase in enumerate(bard):\n",
    "    original_embedding = embeddings[i]\n",
    "    paraphrase_embedding = embeddings[i + 5]\n",
    "    # Cosine similarity is a good measure for semantic similarity\n",
    "    similarity.append(np.inner(original_embedding, paraphrase_embedding) / (np.linalg.norm(original_embedding) * np.linalg.norm(paraphrase_embedding)))\n",
    "print(similarity, np.mean(similarity))"
   ]
  },
  {
   "cell_type": "code",
   "execution_count": 36,
   "metadata": {},
   "outputs": [
    {
     "name": "stdout",
     "output_type": "stream",
     "text": [
      "[0.92108893, 0.97114235, 0.93094426, 0.9792753, 0.973048] 0.9550997\n"
     ]
    }
   ],
   "source": [
    "# We compute embeddings for the original sentence and the paraphrases\n",
    "embeddings = model.encode(sentences + parrot)\n",
    "\n",
    "similarity = []\n",
    "for i, paraphrase in enumerate(parrot):\n",
    "    original_embedding = embeddings[i]\n",
    "    paraphrase_embedding = embeddings[i + 5]\n",
    "    # Cosine similarity is a good measure for semantic similarity\n",
    "    similarity.append(np.inner(original_embedding, paraphrase_embedding) / (np.linalg.norm(original_embedding) * np.linalg.norm(paraphrase_embedding)))\n",
    "print(similarity, np.mean(similarity))"
   ]
  },
  {
   "cell_type": "code",
   "execution_count": 37,
   "metadata": {},
   "outputs": [
    {
     "name": "stdout",
     "output_type": "stream",
     "text": [
      "[0.9419633, 0.9587518, 0.86004746, 0.823581, 0.7906892] 0.87500656\n"
     ]
    }
   ],
   "source": [
    "# We compute embeddings for the original sentence and the paraphrases\n",
    "embeddings = model.encode(sentences + pegasus)\n",
    "\n",
    "similarity = []\n",
    "for i, paraphrase in enumerate(pegasus):\n",
    "    original_embedding = embeddings[i]\n",
    "    paraphrase_embedding = embeddings[i + 5]\n",
    "    # Cosine similarity is a good measure for semantic similarity\n",
    "    similarity.append(np.inner(original_embedding, paraphrase_embedding) / (np.linalg.norm(original_embedding) * np.linalg.norm(paraphrase_embedding)))\n",
    "print(similarity, np.mean(similarity))"
   ]
  },
  {
   "attachments": {},
   "cell_type": "markdown",
   "metadata": {},
   "source": [
    "# Best of 5"
   ]
  },
  {
   "attachments": {},
   "cell_type": "markdown",
   "metadata": {},
   "source": [
    "## Levenshtein Distance and Ratio"
   ]
  },
  {
   "cell_type": "code",
   "execution_count": 58,
   "metadata": {},
   "outputs": [
    {
     "name": "stdout",
     "output_type": "stream",
     "text": [
      "[30.0, 18.0, 25.0, 39.0, 29.0]\n",
      "28.2\n",
      "[0.8765432098765432, 0.8902439024390244, 0.8792270531400966, 0.8825301204819277, 0.863849765258216]\n",
      "0.8784788102391616\n",
      "[[0.8765432098765432, 0.9103139013452914, 0.9237668161434978, 0.9013452914798207, 0.8923766816143498], [0.9451219512195121, 0.926829268292683, 0.9329268292682927, 0.8902439024390244, 0.9132947976878613], [0.9323671497584541, 0.9033816425120773, 0.8792270531400966, 0.8792270531400966, 0.9420289855072463], [0.9096385542168675, 0.8945783132530121, 0.8825301204819277, 0.9066265060240963, 0.9337349397590361], [0.9107981220657277, 0.8873239436619719, 0.8685446009389671, 0.863849765258216, 0.9137931034482759]]\n",
      "0.0005150049406618916\n"
     ]
    }
   ],
   "source": [
    "# Calculate Levenshtein distance\n",
    "bo5_dist = []\n",
    "for i in range(5):\n",
    "    dist = []\n",
    "    for sentence in gpt4_compiled[i]:\n",
    "        dist.append(levenshteinDistance.levenshteinDistance(sentence, sentences[i]))\n",
    "    bo5_dist.append(np.max(dist))\n",
    "print(bo5_dist)\n",
    "print(np.mean(bo5_dist))\n",
    "\n",
    "# Calculate Levenshtein ratio\n",
    "bo5_dist = []\n",
    "for i in range(5):\n",
    "    dist = []\n",
    "    for sentence in gpt4_compiled[i]:\n",
    "        dist.append(ratio(sentence, sentences[i]))\n",
    "    bo5_dist.append(np.min(dist)) # min since we want the smallest lev ratio = furthest/best paraphrase\n",
    "print(bo5_dist)\n",
    "print(np.mean(bo5_dist))\n",
    "gpt4_bo5_dist = bo5_dist\n",
    "\n",
    "# For plotting\n",
    "gpt4_dist = []\n",
    "for i in range(5):\n",
    "    dist = []\n",
    "    for sentence in gpt4_compiled[i]:\n",
    "        dist.append(ratio(sentence, sentences[i]))\n",
    "    gpt4_dist.append(dist) \n",
    "gpt4_var = np.var(gpt4_dist)\n",
    "print(gpt4_dist)\n",
    "print(gpt4_var)"
   ]
  },
  {
   "cell_type": "code",
   "execution_count": 59,
   "metadata": {},
   "outputs": [
    {
     "name": "stdout",
     "output_type": "stream",
     "text": [
      "[31.0, 14.0, 29.0, 30.0, 34.0]\n",
      "27.6\n",
      "[0.8634361233480177, 0.9216867469879518, 0.8599033816425121, 0.9096385542168675, 0.8666666666666667]\n",
      "0.8842662945724029\n",
      "[[0.8923766816143498, 0.8634361233480177, 0.8786610878661087, 0.896414342629482, 0.8834080717488789], [0.9294117647058824, 0.9216867469879518, 0.9695121951219512, 0.9565217391304348, 0.9292929292929293], [0.92, 0.9351851851851852, 0.9196428571428571, 0.9223744292237442, 0.8599033816425121], [0.9126506024096386, 0.9150141643059491, 0.9096385542168675, 0.9135446685878963, 0.9216867469879518], [0.8851063829787233, 0.8666666666666667, 0.888030888030888, 0.8774703557312253, 0.8697478991596639]]\n",
      "0.0007906776461174379\n"
     ]
    }
   ],
   "source": [
    "# Calculate Levenshtein distance\n",
    "bo5_dist = []\n",
    "for i in range(5):\n",
    "    dist = []\n",
    "    for sentence in gpt35_compiled[i]:\n",
    "        dist.append(levenshteinDistance.levenshteinDistance(sentence, sentences[i]))\n",
    "    bo5_dist.append(np.max(dist))\n",
    "print(bo5_dist)\n",
    "print(np.mean(bo5_dist))\n",
    "\n",
    "# Calculate Levenshtein ratio\n",
    "bo5_dist = []\n",
    "for i in range(5):\n",
    "    dist = []\n",
    "    for sentence in gpt35_compiled[i]:\n",
    "        dist.append(ratio(sentence, sentences[i]))\n",
    "    bo5_dist.append(np.min(dist)) # min since we want the smallest lev ratio = furthest/best paraphrase\n",
    "print(bo5_dist)\n",
    "print(np.mean(bo5_dist))\n",
    "gpt35_bo5_dist = bo5_dist\n",
    "\n",
    "# For plotting\n",
    "gpt35_dist = []\n",
    "for i in range(5):\n",
    "    dist = []\n",
    "    for sentence in gpt35_compiled[i]:\n",
    "        dist.append(ratio(sentence, sentences[i]))\n",
    "    gpt35_dist.append(dist)\n",
    "    gpt35_var = np.var(gpt35_dist)\n",
    "print(gpt35_dist)\n",
    "print(gpt35_var)"
   ]
  },
  {
   "cell_type": "code",
   "execution_count": 60,
   "metadata": {},
   "outputs": [
    {
     "name": "stdout",
     "output_type": "stream",
     "text": [
      "[37.0, 17.0, 29.0, 48.0, 38.0]\n",
      "33.8\n",
      "[0.8340807174887892, 0.8963414634146342, 0.8599033816425121, 0.8554216867469879, 0.8262910798122066]\n",
      "0.854407665821026\n",
      "[[0.8878923766816144, 0.8878923766816144, 0.9103139013452914, 0.8340807174887892, 0.8385650224215246], [0.9573170731707317, 0.9401197604790419, 0.9285714285714286, 0.8963414634146342, 0.9634146341463414], [0.966183574879227, 0.8599033816425121, 0.9758454106280193, 0.8647342995169082, 0.9523809523809523], [0.9518072289156626, 0.8765060240963856, 0.8765060240963856, 0.9487951807228916, 0.8554216867469879], [0.9765258215962441, 0.8272727272727273, 0.8262910798122066, 0.9154929577464789, 0.8544600938967136]]\n",
      "0.0024332227427579837\n"
     ]
    }
   ],
   "source": [
    "# Calculate Levenshtein distance\n",
    "bo5_dist = []\n",
    "for i in range(5):\n",
    "    dist = []\n",
    "    for sentence in bing_compiled[i]:\n",
    "        dist.append(levenshteinDistance.levenshteinDistance(sentence, sentences[i]))\n",
    "    bo5_dist.append(np.max(dist))\n",
    "print(bo5_dist)\n",
    "print(np.mean(bo5_dist))\n",
    "\n",
    "# Calculate Levenshtein ratio\n",
    "bo5_dist = []\n",
    "for i in range(5):\n",
    "    dist = []\n",
    "    for sentence in bing_compiled[i]:\n",
    "        dist.append(ratio(sentence, sentences[i]))\n",
    "    bo5_dist.append(np.min(dist)) # min since we want the smallest lev ratio = furthest/best paraphrase\n",
    "print(bo5_dist)\n",
    "print(np.mean(bo5_dist))\n",
    "bing_bo5_dist = bo5_dist\n",
    "\n",
    "# For plotting\n",
    "bing_dist = []\n",
    "for i in range(5):\n",
    "    dist = []\n",
    "    for sentence in bing_compiled[i]:\n",
    "        dist.append(ratio(sentence, sentences[i]))\n",
    "    bing_dist.append(dist)\n",
    "bing_var = np.var(bing_dist)\n",
    "print(bing_dist)\n",
    "print(bing_var)"
   ]
  },
  {
   "cell_type": "code",
   "execution_count": 61,
   "metadata": {},
   "outputs": [
    {
     "name": "stdout",
     "output_type": "stream",
     "text": [
      "[29.0, 13.0, 39.0, 37.0, 40.0]\n",
      "31.6\n",
      "[0.8699551569506726, 0.9207317073170732, 0.8375, 0.8885542168674698, 0.8169014084507042]\n",
      "0.8667284979171839\n",
      "[[0.9103139013452914, 0.8968609865470852, 0.9192825112107623, 0.8699551569506726, 0.8699551569506726], [0.975609756097561, 0.9634146341463414, 0.9512195121951219, 0.9207317073170732, 0.9285714285714286], [0.927536231884058, 0.9130434782608695, 0.8405797101449275, 0.8375, 0.8405797101449275], [0.9307228915662651, 0.927710843373494, 0.8885542168674698, 0.9036144578313253, 0.8975903614457831], [0.971830985915493, 0.9577464788732394, 0.827906976744186, 0.8169014084507042, 0.817351598173516]]\n",
      "0.00228343729475223\n"
     ]
    }
   ],
   "source": [
    "# Calculate Levenshtein distance\n",
    "bo5_dist = []\n",
    "for i in range(5):\n",
    "    dist = []\n",
    "    for sentence in bard_compiled[i]:\n",
    "        dist.append(levenshteinDistance.levenshteinDistance(sentence, sentences[i]))\n",
    "    bo5_dist.append(np.max(dist))\n",
    "print(bo5_dist)\n",
    "print(np.mean(bo5_dist))\n",
    "\n",
    "# Calculate Levenshtein ratio\n",
    "bo5_dist = []\n",
    "for i in range(5):\n",
    "    dist = []\n",
    "    for sentence in bard_compiled[i]:\n",
    "        dist.append(ratio(sentence, sentences[i]))\n",
    "    bo5_dist.append(np.min(dist)) # min since we want the smallest lev ratio = furthest/best paraphrase\n",
    "print(bo5_dist)\n",
    "print(np.mean(bo5_dist))\n",
    "bard_bo5_dist = bo5_dist\n",
    "\n",
    "# For plotting\n",
    "bard_dist = []\n",
    "for i in range(5):\n",
    "    dist = []\n",
    "    for sentence in bard_compiled[i]:\n",
    "        dist.append(ratio(sentence, sentences[i]))\n",
    "    bard_dist.append(dist)\n",
    "    bard_var = np.var(bard_dist)\n",
    "print(bard_dist)\n",
    "print(bard_var)"
   ]
  },
  {
   "cell_type": "code",
   "execution_count": 72,
   "metadata": {},
   "outputs": [
    {
     "name": "stdout",
     "output_type": "stream",
     "text": [
      "[34.0, 16.0, 29.0, 38.0, 23.0]\n",
      "28.0\n",
      "[0.8475336322869955, 0.9024390243902439, 0.8599033816425121, 0.8855421686746988, 0.892018779342723]\n",
      "0.8774873972674346\n",
      "[[0.852017937219731, 0.8475336322869955, 0.852017937219731, 0.852017937219731, 0.8475336322869955], [0.926829268292683, 0.9512195121951219, 0.9024390243902439, 0.9512195121951219, 0.9573170731707317], [0.8695652173913043, 0.8647342995169082, 0.8599033816425121, 0.8743961352657005, 0.8695652173913043], [0.8885542168674698, 0.891566265060241, 0.8855421686746988, 0.8885542168674698, 0.8885542168674698], [0.9014084507042254, 0.8967136150234741, 0.8967136150234741, 0.8967136150234741, 0.892018779342723]]\n",
      "0.0009724657135925968\n"
     ]
    }
   ],
   "source": [
    "# Calculate Levenshtein distance\n",
    "bo5_dist = []\n",
    "for i in range(5):\n",
    "    dist = []\n",
    "    for sentence in pegasus_compiled[i]:\n",
    "        dist.append(levenshteinDistance.levenshteinDistance(sentence, sentences[i]))\n",
    "    bo5_dist.append(np.max(dist))\n",
    "print(bo5_dist)\n",
    "print(np.mean(bo5_dist))\n",
    "\n",
    "# Calculate Levenshtein ratio\n",
    "bo5_dist = []\n",
    "for i in range(5):\n",
    "    dist = []\n",
    "    for sentence in pegasus_compiled[i]:\n",
    "        dist.append(ratio(sentence, sentences[i]))\n",
    "    bo5_dist.append(np.min(dist)) # min since we want the smallest lev ratio = furthest/best paraphrase\n",
    "print(bo5_dist)\n",
    "print(np.mean(bo5_dist))\n",
    "pegasus_bo5_dist = bo5_dist\n",
    "\n",
    "# For plotting\n",
    "pegasus_dist = []\n",
    "for i in range(5):\n",
    "    dist = []\n",
    "    for sentence in pegasus_compiled[i]:\n",
    "        dist.append(ratio(sentence, sentences[i]))\n",
    "    pegasus_dist.append(dist)\n",
    "    pegasus_var = np.var(pegasus_dist)\n",
    "print(pegasus_dist)\n",
    "print(pegasus_var)"
   ]
  },
  {
   "cell_type": "code",
   "execution_count": 63,
   "metadata": {},
   "outputs": [
    {
     "name": "stdout",
     "output_type": "stream",
     "text": [
      "[19.0, 12.0, 31.0, 22.0, 36.0]\n",
      "24.0\n",
      "[0.9147982062780269, 0.926829268292683, 0.8502415458937198, 0.9337349397590361, 0.8309859154929577]\n",
      "0.8913179751432848\n",
      "[[0.9147982062780269, 0.9147982062780269, 0.9192825112107623, 0.9192825112107623, 0.9282511210762332], [0.927710843373494, 0.9329268292682927, 0.926829268292683, 0.926829268292683, 0.9329268292682927], [0.855072463768116, 0.8502415458937198, 0.855072463768116, 0.8792270531400966, 0.9033816425120773], [0.9337349397590361, 0.9337349397590361, 0.9337349397590361, 0.9337349397590361, 0.9337349397590361], [0.8309859154929577, 0.8309859154929577, 0.8309859154929577, 0.8309859154929577, 0.9765258215962441]]\n",
      "0.0017514075144219857\n"
     ]
    }
   ],
   "source": [
    "# Calculate Levenshtein distance\n",
    "bo5_dist = []\n",
    "for i in range(5):\n",
    "    dist = []\n",
    "    for sentence in parrot_compiled[i]:\n",
    "        dist.append(levenshteinDistance.levenshteinDistance(sentence, sentences[i]))\n",
    "    bo5_dist.append(np.max(dist))\n",
    "print(bo5_dist)\n",
    "print(np.mean(bo5_dist))\n",
    "\n",
    "# Calculate Levenshtein ratio\n",
    "bo5_dist = []\n",
    "for i in range(5):\n",
    "    dist = []\n",
    "    for sentence in parrot_compiled[i]:\n",
    "        dist.append(ratio(sentence, sentences[i]))\n",
    "    bo5_dist.append(np.min(dist)) # min since we want the smallest lev ratio = furthest/best paraphrase\n",
    "print(bo5_dist)\n",
    "print(np.mean(bo5_dist))\n",
    "parrot_bo5_dist = bo5_dist\n",
    "\n",
    "# For plotting\n",
    "parrot_dist = []\n",
    "for i in range(5):\n",
    "    dist = []\n",
    "    for sentence in parrot_compiled[i]:\n",
    "        dist.append(ratio(sentence, sentences[i]))\n",
    "    parrot_dist.append(dist)\n",
    "    parrot_var = np.var(parrot_dist)\n",
    "print(parrot_dist)\n",
    "print(parrot_var)"
   ]
  },
  {
   "attachments": {},
   "cell_type": "markdown",
   "metadata": {},
   "source": [
    "# Semantic Similarity"
   ]
  },
  {
   "cell_type": "code",
   "execution_count": 73,
   "metadata": {},
   "outputs": [],
   "source": [
    "from sentence_transformers import SentenceTransformer\n",
    "\n",
    "# We first load our model\n",
    "model = SentenceTransformer('all-MiniLM-L6-v2')"
   ]
  },
  {
   "cell_type": "code",
   "execution_count": 74,
   "metadata": {},
   "outputs": [
    {
     "name": "stdout",
     "output_type": "stream",
     "text": [
      "[0.9774244, 0.9816736, 0.93680394, 0.97033966, 0.97435385]\n",
      "0.968119\n"
     ]
    }
   ],
   "source": [
    "gpt4_similarity = []\n",
    "bo5_similarity = []\n",
    "for i in range(5):\n",
    "    similarity = []\n",
    "    # We compute embeddings for the original sentence and the paraphrases\n",
    "    embeddings = model.encode([sentences[i]] + gpt4_compiled[i])\n",
    "    original_embedding = embeddings[0]\n",
    "    for j in range(5):\n",
    "        paraphrase_embedding = embeddings[j + 1]\n",
    "        # Cosine similarity is a good measure for semantic similarity\n",
    "        similarity.append(np.inner(original_embedding, paraphrase_embedding) / (np.linalg.norm(original_embedding) * np.linalg.norm(paraphrase_embedding)))\n",
    "    bo5_similarity.append(np.max(similarity))\n",
    "    gpt4_similarity.append(similarity)\n",
    "print(bo5_similarity)\n",
    "print(np.mean(bo5_similarity))\n",
    "gpt4_bo5_similarity = bo5_similarity"
   ]
  },
  {
   "cell_type": "code",
   "execution_count": 46,
   "metadata": {},
   "outputs": [
    {
     "name": "stdout",
     "output_type": "stream",
     "text": [
      "[0.9718937, 0.9751429, 0.9642357, 0.9696931, 0.97392905]\n",
      "0.9709789\n"
     ]
    }
   ],
   "source": [
    "gpt35_similarity = []\n",
    "bo5_similarity = []\n",
    "for i in range(5):\n",
    "    similarity = []\n",
    "    # We compute embeddings for the original sentence and the paraphrases\n",
    "    embeddings = model.encode([sentences[i]] + gpt35_compiled[i])\n",
    "    original_embedding = embeddings[0]\n",
    "    for j in range(5):\n",
    "        paraphrase_embedding = embeddings[j + 1]\n",
    "        # Cosine similarity is a good measure for semantic similarity\n",
    "        similarity.append(np.inner(original_embedding, paraphrase_embedding) / (np.linalg.norm(original_embedding) * np.linalg.norm(paraphrase_embedding)))\n",
    "    bo5_similarity.append(np.max(similarity))\n",
    "    gpt35_similarity.append(similarity)\n",
    "print(bo5_similarity)\n",
    "print(np.mean(bo5_similarity))\n",
    "gpt35_bo5_similarity = bo5_similarity"
   ]
  },
  {
   "cell_type": "code",
   "execution_count": 47,
   "metadata": {},
   "outputs": [
    {
     "name": "stdout",
     "output_type": "stream",
     "text": [
      "[0.9775265, 0.99017435, 0.9749658, 0.98686945, 0.99145526]\n",
      "0.9841982\n"
     ]
    }
   ],
   "source": [
    "bing_similarity = []\n",
    "bo5_similarity = []\n",
    "for i in range(5):\n",
    "    similarity = []\n",
    "    # We compute embeddings for the original sentence and the paraphrases\n",
    "    embeddings = model.encode([sentences[i]] + bing_compiled[i])\n",
    "    original_embedding = embeddings[0]\n",
    "    for j in range(5):\n",
    "        paraphrase_embedding = embeddings[j + 1]\n",
    "        # Cosine similarity is a good measure for semantic similarity\n",
    "        similarity.append(np.inner(original_embedding, paraphrase_embedding) / (np.linalg.norm(original_embedding) * np.linalg.norm(paraphrase_embedding)))\n",
    "    bo5_similarity.append(np.max(similarity))\n",
    "    bing_similarity.append(similarity)\n",
    "print(bo5_similarity)\n",
    "print(np.mean(bo5_similarity))\n",
    "bing_bo5_similarity = bo5_similarity"
   ]
  },
  {
   "cell_type": "code",
   "execution_count": 48,
   "metadata": {},
   "outputs": [
    {
     "name": "stdout",
     "output_type": "stream",
     "text": [
      "[0.75426644, 0.9916469, 0.9522022, 0.9659338, 0.9937947]\n",
      "0.93156874\n"
     ]
    }
   ],
   "source": [
    "bard_similarity = []\n",
    "bo5_similarity = []\n",
    "for i in range(5):\n",
    "    similarity = []\n",
    "    # We compute embeddings for the original sentence and the paraphrases\n",
    "    embeddings = model.encode([sentences[i]] + bard_compiled[i])\n",
    "    original_embedding = embeddings[0]\n",
    "    for j in range(5):\n",
    "        paraphrase_embedding = embeddings[j + 1]\n",
    "        # Cosine similarity is a good measure for semantic similarity\n",
    "        similarity.append(np.inner(original_embedding, paraphrase_embedding) / (np.linalg.norm(original_embedding) * np.linalg.norm(paraphrase_embedding)))\n",
    "    bo5_similarity.append(np.max(similarity))\n",
    "    bard_similarity.append(similarity)\n",
    "print(bo5_similarity)\n",
    "print(np.mean(bo5_similarity))\n",
    "bard_bo5_similarity = bo5_similarity"
   ]
  },
  {
   "cell_type": "code",
   "execution_count": 49,
   "metadata": {},
   "outputs": [
    {
     "name": "stdout",
     "output_type": "stream",
     "text": [
      "[0.95880884, 0.9690247, 0.8621852, 0.8797078, 0.91342425]\n",
      "0.91663015\n"
     ]
    }
   ],
   "source": [
    "pegasus_similarity = []\n",
    "bo5_similarity = []\n",
    "for i in range(5):\n",
    "    similarity = []\n",
    "    # We compute embeddings for the original sentence and the paraphrases\n",
    "    embeddings = model.encode([sentences[i]] + pegasus_compiled[i])\n",
    "    original_embedding = embeddings[0]\n",
    "    for j in range(5):\n",
    "        paraphrase_embedding = embeddings[j + 1]\n",
    "        # Cosine similarity is a good measure for semantic similarity\n",
    "        similarity.append(np.inner(original_embedding, paraphrase_embedding) / (np.linalg.norm(original_embedding) * np.linalg.norm(paraphrase_embedding)))\n",
    "    bo5_similarity.append(np.max(similarity))\n",
    "    pegasus_similarity.append(similarity)\n",
    "print(bo5_similarity)\n",
    "print(np.mean(bo5_similarity))\n",
    "pegasus_bo5_similarity = bo5_similarity"
   ]
  },
  {
   "cell_type": "code",
   "execution_count": 50,
   "metadata": {},
   "outputs": [
    {
     "name": "stdout",
     "output_type": "stream",
     "text": [
      "[0.92136276, 0.97215414, 0.9554171, 0.935537, 0.9846321]\n",
      "0.9538206\n"
     ]
    }
   ],
   "source": [
    "parrot_similarity = []\n",
    "bo5_similarity = []\n",
    "for i in range(5):\n",
    "    similarity = []\n",
    "    # We compute embeddings for the original sentence and the paraphrases\n",
    "    embeddings = model.encode([sentences[i]] + parrot_compiled[i])\n",
    "    original_embedding = embeddings[0]\n",
    "    for j in range(5):\n",
    "        paraphrase_embedding = embeddings[j + 1]\n",
    "        # Cosine similarity is a good measure for semantic similarity\n",
    "        similarity.append(np.inner(original_embedding, paraphrase_embedding) / (np.linalg.norm(original_embedding) * np.linalg.norm(paraphrase_embedding)))\n",
    "    bo5_similarity.append(np.max(similarity))\n",
    "    parrot_similarity.append(similarity)\n",
    "print(bo5_similarity)\n",
    "print(np.mean(bo5_similarity))\n",
    "parrot_bo5_similarity = bo5_similarity"
   ]
  },
  {
   "cell_type": "markdown",
   "metadata": {},
   "source": [
    "## Plotting Similarity against Lev ratio"
   ]
  },
  {
   "cell_type": "code",
   "execution_count": 51,
   "metadata": {},
   "outputs": [],
   "source": [
    "import matplotlib.pyplot as plt"
   ]
  },
  {
   "cell_type": "code",
   "execution_count": 52,
   "metadata": {},
   "outputs": [
    {
     "data": {
      "image/png": "[encoded data removed]",
      "text/plain": [
       "<Figure size 640x480 with 1 Axes>"
      ]
     },
     "metadata": {},
     "output_type": "display_data"
    }
   ],
   "source": [
    "fig, ax = plt.subplots()\n",
    "\n",
    "ax.scatter(gpt4_similarity, gpt4_dist, c='red', label='gpt4:red')\n",
    "ax.scatter(gpt35_similarity, gpt35_dist, c='orange', label='gpt35:orange')\n",
    "ax.scatter(bing_similarity, bing_dist, c='black', label='bing:black')\n",
    "ax.scatter(bard_similarity, bard_dist, c='blue', label='bard:blue')\n",
    "ax.scatter(pegasus_similarity, pegasus_dist, c='purple', label='pegasus:purple')\n",
    "ax.scatter(parrot_similarity, parrot_dist, c='green', label='parrot:green')\n",
    "\n",
    "plt.xlabel(\"Semantic Similarity\")\n",
    "plt.ylabel(\"Levenshtein Ratio\")\n",
    "plt.title(\"Plot of Semantic Similarity against Levenshtein Ratio\")\n",
    "ax.set_ylim(1.0, 0.8)\n",
    "ax.set_xlim(0.7, 1.0)\n",
    "ax.legend()\n",
    "ax.grid(True)\n",
    "plt.show()"
   ]
  },
  {
   "cell_type": "code",
   "execution_count": 53,
   "metadata": {},
   "outputs": [
    {
     "data": {
      "image/png": "[encoded data removed]",
      "text/plain": [
       "<Figure size 640x480 with 1 Axes>"
      ]
     },
     "metadata": {},
     "output_type": "display_data"
    }
   ],
   "source": [
    "fig, ax = plt.subplots()\n",
    "\n",
    "ax.scatter(gpt4_bo5_similarity, gpt4_bo5_dist, c='red', label='gpt4:red')\n",
    "ax.scatter(gpt35_bo5_similarity, gpt35_bo5_dist, c='orange', label='gpt35:orange')\n",
    "ax.scatter(bing_bo5_similarity, bing_bo5_dist, c='black', label='bing:black')\n",
    "ax.scatter(bard_bo5_similarity, bard_bo5_dist, c='blue', label='bard:blue')\n",
    "ax.scatter(pegasus_bo5_similarity, pegasus_bo5_dist, c='purple', label='pegasus:purple')\n",
    "ax.scatter(parrot_bo5_similarity, parrot_bo5_dist, c='green', label='parrot:green')\n",
    "\n",
    "plt.xlabel(\"Semantic Similarity\")\n",
    "plt.ylabel(\"Levenshtein Ratio\")\n",
    "plt.title(\"Plot of Best of 5 Semantic Similarity against Levenshtein Ratio\")\n",
    "ax.set_ylim(1.0, 0.8)\n",
    "ax.set_xlim(0.7, 1.0)\n",
    "ax.legend()\n",
    "ax.grid(True)\n",
    "plt.show()"
   ]
  },
  {
   "cell_type": "markdown",
   "metadata": {},
   "source": [
    "# LLaMa v2"
   ]
  },
  {
   "cell_type": "code",
   "execution_count": 64,
   "metadata": {},
   "outputs": [],
   "source": [
    "from transformers import AutoTokenizer\n",
    "import transformers\n",
    "import torch"
   ]
  },
  {
   "cell_type": "code",
   "execution_count": 65,
   "metadata": {},
   "outputs": [
    {
     "ename": "OSError",
     "evalue": "meta-llama/Llama-2-7b-chat-hf is not a local folder and is not a valid model identifier listed on 'https://huggingface.co/models'\nIf this is a private repository, make sure to pass a token having permission to this repo with `use_auth_token` or log in with `huggingface-cli login` and pass `use_auth_token=True`.",
     "output_type": "error",
     "traceback": [
      "\u001b[1;31m---------------------------------------------------------------------------\u001b[0m",
      "\u001b[1;31mHTTPError\u001b[0m                                 Traceback (most recent call last)",
      "File \u001b[1;32m~\\AppData\\Roaming\\Python\\Python39\\site-packages\\huggingface_hub\\utils\\_errors.py:259\u001b[0m, in \u001b[0;36mhf_raise_for_status\u001b[1;34m(response, endpoint_name)\u001b[0m\n\u001b[0;32m    258\u001b[0m \u001b[39mtry\u001b[39;00m:\n\u001b[1;32m--> 259\u001b[0m     response\u001b[39m.\u001b[39;49mraise_for_status()\n\u001b[0;32m    260\u001b[0m \u001b[39mexcept\u001b[39;00m HTTPError \u001b[39mas\u001b[39;00m e:\n",
      "File \u001b[1;32m~\\AppData\\Roaming\\Python\\Python39\\site-packages\\requests\\models.py:960\u001b[0m, in \u001b[0;36mResponse.raise_for_status\u001b[1;34m(self)\u001b[0m\n\u001b[0;32m    959\u001b[0m \u001b[39mif\u001b[39;00m http_error_msg:\n\u001b[1;32m--> 960\u001b[0m     \u001b[39mraise\u001b[39;00m HTTPError(http_error_msg, response\u001b[39m=\u001b[39m\u001b[39mself\u001b[39m)\n",
      "\u001b[1;31mHTTPError\u001b[0m: 401 Client Error: Unauthorized for url: https://huggingface.co/meta-llama/Llama-2-7b-chat-hf/resolve/main/tokenizer_config.json",
      "\nThe above exception was the direct cause of the following exception:\n",
      "\u001b[1;31mGatedRepoError\u001b[0m                            Traceback (most recent call last)",
      "File \u001b[1;32m~\\AppData\\Roaming\\Python\\Python39\\site-packages\\transformers\\utils\\hub.py:409\u001b[0m, in \u001b[0;36mcached_file\u001b[1;34m(path_or_repo_id, filename, cache_dir, force_download, resume_download, proxies, use_auth_token, revision, local_files_only, subfolder, user_agent, _raise_exceptions_for_missing_entries, _raise_exceptions_for_connection_errors, _commit_hash)\u001b[0m\n\u001b[0;32m    407\u001b[0m \u001b[39mtry\u001b[39;00m:\n\u001b[0;32m    408\u001b[0m     \u001b[39m# Load from URL or cache if already cached\u001b[39;00m\n\u001b[1;32m--> 409\u001b[0m     resolved_file \u001b[39m=\u001b[39m hf_hub_download(\n\u001b[0;32m    410\u001b[0m         path_or_repo_id,\n\u001b[0;32m    411\u001b[0m         filename,\n\u001b[0;32m    412\u001b[0m         subfolder\u001b[39m=\u001b[39;49m\u001b[39mNone\u001b[39;49;00m \u001b[39mif\u001b[39;49;00m \u001b[39mlen\u001b[39;49m(subfolder) \u001b[39m==\u001b[39;49m \u001b[39m0\u001b[39;49m \u001b[39melse\u001b[39;49;00m subfolder,\n\u001b[0;32m    413\u001b[0m         revision\u001b[39m=\u001b[39;49mrevision,\n\u001b[0;32m    414\u001b[0m         cache_dir\u001b[39m=\u001b[39;49mcache_dir,\n\u001b[0;32m    415\u001b[0m         user_agent\u001b[39m=\u001b[39;49muser_agent,\n\u001b[0;32m    416\u001b[0m         force_download\u001b[39m=\u001b[39;49mforce_download,\n\u001b[0;32m    417\u001b[0m         proxies\u001b[39m=\u001b[39;49mproxies,\n\u001b[0;32m    418\u001b[0m         resume_download\u001b[39m=\u001b[39;49mresume_download,\n\u001b[0;32m    419\u001b[0m         use_auth_token\u001b[39m=\u001b[39;49muse_auth_token,\n\u001b[0;32m    420\u001b[0m         local_files_only\u001b[39m=\u001b[39;49mlocal_files_only,\n\u001b[0;32m    421\u001b[0m     )\n\u001b[0;32m    423\u001b[0m \u001b[39mexcept\u001b[39;00m RepositoryNotFoundError:\n",
      "File \u001b[1;32m~\\AppData\\Roaming\\Python\\Python39\\site-packages\\huggingface_hub\\utils\\_validators.py:120\u001b[0m, in \u001b[0;36mvalidate_hf_hub_args.<locals>._inner_fn\u001b[1;34m(*args, **kwargs)\u001b[0m\n\u001b[0;32m    118\u001b[0m     kwargs \u001b[39m=\u001b[39m smoothly_deprecate_use_auth_token(fn_name\u001b[39m=\u001b[39mfn\u001b[39m.\u001b[39m\u001b[39m__name__\u001b[39m, has_token\u001b[39m=\u001b[39mhas_token, kwargs\u001b[39m=\u001b[39mkwargs)\n\u001b[1;32m--> 120\u001b[0m \u001b[39mreturn\u001b[39;00m fn(\u001b[39m*\u001b[39margs, \u001b[39m*\u001b[39m\u001b[39m*\u001b[39mkwargs)\n",
      "File \u001b[1;32m~\\AppData\\Roaming\\Python\\Python39\\site-packages\\huggingface_hub\\file_download.py:1160\u001b[0m, in \u001b[0;36mhf_hub_download\u001b[1;34m(repo_id, filename, subfolder, repo_type, revision, library_name, library_version, cache_dir, local_dir, local_dir_use_symlinks, user_agent, force_download, force_filename, proxies, etag_timeout, resume_download, token, local_files_only, legacy_cache_layout)\u001b[0m\n\u001b[0;32m   1159\u001b[0m \u001b[39mtry\u001b[39;00m:\n\u001b[1;32m-> 1160\u001b[0m     metadata \u001b[39m=\u001b[39m get_hf_file_metadata(\n\u001b[0;32m   1161\u001b[0m         url\u001b[39m=\u001b[39;49murl,\n\u001b[0;32m   1162\u001b[0m         token\u001b[39m=\u001b[39;49mtoken,\n\u001b[0;32m   1163\u001b[0m         proxies\u001b[39m=\u001b[39;49mproxies,\n\u001b[0;32m   1164\u001b[0m         timeout\u001b[39m=\u001b[39;49metag_timeout,\n\u001b[0;32m   1165\u001b[0m     )\n\u001b[0;32m   1166\u001b[0m \u001b[39mexcept\u001b[39;00m EntryNotFoundError \u001b[39mas\u001b[39;00m http_error:\n\u001b[0;32m   1167\u001b[0m     \u001b[39m# Cache the non-existence of the file and raise\u001b[39;00m\n",
      "File \u001b[1;32m~\\AppData\\Roaming\\Python\\Python39\\site-packages\\huggingface_hub\\utils\\_validators.py:120\u001b[0m, in \u001b[0;36mvalidate_hf_hub_args.<locals>._inner_fn\u001b[1;34m(*args, **kwargs)\u001b[0m\n\u001b[0;32m    118\u001b[0m     kwargs \u001b[39m=\u001b[39m smoothly_deprecate_use_auth_token(fn_name\u001b[39m=\u001b[39mfn\u001b[39m.\u001b[39m\u001b[39m__name__\u001b[39m, has_token\u001b[39m=\u001b[39mhas_token, kwargs\u001b[39m=\u001b[39mkwargs)\n\u001b[1;32m--> 120\u001b[0m \u001b[39mreturn\u001b[39;00m fn(\u001b[39m*\u001b[39margs, \u001b[39m*\u001b[39m\u001b[39m*\u001b[39mkwargs)\n",
      "File \u001b[1;32m~\\AppData\\Roaming\\Python\\Python39\\site-packages\\huggingface_hub\\file_download.py:1501\u001b[0m, in \u001b[0;36mget_hf_file_metadata\u001b[1;34m(url, token, proxies, timeout)\u001b[0m\n\u001b[0;32m   1492\u001b[0m r \u001b[39m=\u001b[39m _request_wrapper(\n\u001b[0;32m   1493\u001b[0m     method\u001b[39m=\u001b[39m\u001b[39m\"\u001b[39m\u001b[39mHEAD\u001b[39m\u001b[39m\"\u001b[39m,\n\u001b[0;32m   1494\u001b[0m     url\u001b[39m=\u001b[39murl,\n\u001b[1;32m   (...)\u001b[0m\n\u001b[0;32m   1499\u001b[0m     timeout\u001b[39m=\u001b[39mtimeout,\n\u001b[0;32m   1500\u001b[0m )\n\u001b[1;32m-> 1501\u001b[0m hf_raise_for_status(r)\n\u001b[0;32m   1503\u001b[0m \u001b[39m# Return\u001b[39;00m\n",
      "File \u001b[1;32m~\\AppData\\Roaming\\Python\\Python39\\site-packages\\huggingface_hub\\utils\\_errors.py:275\u001b[0m, in \u001b[0;36mhf_raise_for_status\u001b[1;34m(response, endpoint_name)\u001b[0m\n\u001b[0;32m    272\u001b[0m     message \u001b[39m=\u001b[39m (\n\u001b[0;32m    273\u001b[0m         \u001b[39mf\u001b[39m\u001b[39m\"\u001b[39m\u001b[39m{\u001b[39;00mresponse\u001b[39m.\u001b[39mstatus_code\u001b[39m}\u001b[39;00m\u001b[39m Client Error.\u001b[39m\u001b[39m\"\u001b[39m \u001b[39m+\u001b[39m \u001b[39m\"\u001b[39m\u001b[39m\\n\u001b[39;00m\u001b[39m\\n\u001b[39;00m\u001b[39m\"\u001b[39m \u001b[39m+\u001b[39m \u001b[39mf\u001b[39m\u001b[39m\"\u001b[39m\u001b[39mCannot access gated repo for url \u001b[39m\u001b[39m{\u001b[39;00mresponse\u001b[39m.\u001b[39murl\u001b[39m}\u001b[39;00m\u001b[39m.\u001b[39m\u001b[39m\"\u001b[39m\n\u001b[0;32m    274\u001b[0m     )\n\u001b[1;32m--> 275\u001b[0m     \u001b[39mraise\u001b[39;00m GatedRepoError(message, response) \u001b[39mfrom\u001b[39;00m \u001b[39me\u001b[39;00m\n\u001b[0;32m    277\u001b[0m \u001b[39melif\u001b[39;00m error_code \u001b[39m==\u001b[39m \u001b[39m\"\u001b[39m\u001b[39mRepoNotFound\u001b[39m\u001b[39m\"\u001b[39m \u001b[39mor\u001b[39;00m response\u001b[39m.\u001b[39mstatus_code \u001b[39m==\u001b[39m \u001b[39m401\u001b[39m:\n\u001b[0;32m    278\u001b[0m     \u001b[39m# 401 is misleading as it is returned for:\u001b[39;00m\n\u001b[0;32m    279\u001b[0m     \u001b[39m#    - private and gated repos if user is not authenticated\u001b[39;00m\n\u001b[0;32m    280\u001b[0m     \u001b[39m#    - missing repos\u001b[39;00m\n\u001b[0;32m    281\u001b[0m     \u001b[39m# => for now, we process them as `RepoNotFound` anyway.\u001b[39;00m\n\u001b[0;32m    282\u001b[0m     \u001b[39m# See https://gist.github.com/Wauplin/46c27ad266b15998ce56a6603796f0b9\u001b[39;00m\n",
      "\u001b[1;31mGatedRepoError\u001b[0m: 401 Client Error. (Request ID: Root=1-64db4c55-168b66b6095176a9208c2e7f)\n\nCannot access gated repo for url https://huggingface.co/meta-llama/Llama-2-7b-chat-hf/resolve/main/tokenizer_config.json.\nRepo model meta-llama/Llama-2-7b-chat-hf is gated. You must be authenticated to access it.",
      "\nDuring handling of the above exception, another exception occurred:\n",
      "\u001b[1;31mOSError\u001b[0m                                   Traceback (most recent call last)",
      "Cell \u001b[1;32mIn[65], line 3\u001b[0m\n\u001b[0;32m      1\u001b[0m model \u001b[39m=\u001b[39m \u001b[39m\"\u001b[39m\u001b[39mmeta-llama/Llama-2-7b-chat-hf\u001b[39m\u001b[39m\"\u001b[39m\n\u001b[1;32m----> 3\u001b[0m tokenizer \u001b[39m=\u001b[39m AutoTokenizer\u001b[39m.\u001b[39;49mfrom_pretrained(model)\n\u001b[0;32m      4\u001b[0m pipeline \u001b[39m=\u001b[39m transformers\u001b[39m.\u001b[39mpipeline(\n\u001b[0;32m      5\u001b[0m     \u001b[39m\"\u001b[39m\u001b[39mtext-generation\u001b[39m\u001b[39m\"\u001b[39m,\n\u001b[0;32m      6\u001b[0m     model\u001b[39m=\u001b[39mmodel,\n\u001b[0;32m      7\u001b[0m     torch_dtype\u001b[39m=\u001b[39mtorch\u001b[39m.\u001b[39mfloat16,\n\u001b[0;32m      8\u001b[0m     device_map\u001b[39m=\u001b[39m\u001b[39m\"\u001b[39m\u001b[39mauto\u001b[39m\u001b[39m\"\u001b[39m,\n\u001b[0;32m      9\u001b[0m )\n\u001b[0;32m     11\u001b[0m sequences \u001b[39m=\u001b[39m pipeline(\n\u001b[0;32m     12\u001b[0m     \u001b[39m'\u001b[39m\u001b[39mI liked \u001b[39m\u001b[39m\"\u001b[39m\u001b[39mBreaking Bad\u001b[39m\u001b[39m\"\u001b[39m\u001b[39m and \u001b[39m\u001b[39m\"\u001b[39m\u001b[39mBand of Brothers\u001b[39m\u001b[39m\"\u001b[39m\u001b[39m. Do you have any recommendations of other shows I might like?\u001b[39m\u001b[39m\\n\u001b[39;00m\u001b[39m'\u001b[39m,\n\u001b[0;32m     13\u001b[0m     do_sample\u001b[39m=\u001b[39m\u001b[39mTrue\u001b[39;00m,\n\u001b[1;32m   (...)\u001b[0m\n\u001b[0;32m     17\u001b[0m     max_length\u001b[39m=\u001b[39m\u001b[39m200\u001b[39m,\n\u001b[0;32m     18\u001b[0m )\n",
      "File \u001b[1;32m~\\AppData\\Roaming\\Python\\Python39\\site-packages\\transformers\\models\\auto\\tokenization_auto.py:619\u001b[0m, in \u001b[0;36mAutoTokenizer.from_pretrained\u001b[1;34m(cls, pretrained_model_name_or_path, *inputs, **kwargs)\u001b[0m\n\u001b[0;32m    616\u001b[0m     \u001b[39mreturn\u001b[39;00m tokenizer_class\u001b[39m.\u001b[39mfrom_pretrained(pretrained_model_name_or_path, \u001b[39m*\u001b[39minputs, \u001b[39m*\u001b[39m\u001b[39m*\u001b[39mkwargs)\n\u001b[0;32m    618\u001b[0m \u001b[39m# Next, let's try to use the tokenizer_config file to get the tokenizer class.\u001b[39;00m\n\u001b[1;32m--> 619\u001b[0m tokenizer_config \u001b[39m=\u001b[39m get_tokenizer_config(pretrained_model_name_or_path, \u001b[39m*\u001b[39m\u001b[39m*\u001b[39mkwargs)\n\u001b[0;32m    620\u001b[0m \u001b[39mif\u001b[39;00m \u001b[39m\"\u001b[39m\u001b[39m_commit_hash\u001b[39m\u001b[39m\"\u001b[39m \u001b[39min\u001b[39;00m tokenizer_config:\n\u001b[0;32m    621\u001b[0m     kwargs[\u001b[39m\"\u001b[39m\u001b[39m_commit_hash\u001b[39m\u001b[39m\"\u001b[39m] \u001b[39m=\u001b[39m tokenizer_config[\u001b[39m\"\u001b[39m\u001b[39m_commit_hash\u001b[39m\u001b[39m\"\u001b[39m]\n",
      "File \u001b[1;32m~\\AppData\\Roaming\\Python\\Python39\\site-packages\\transformers\\models\\auto\\tokenization_auto.py:463\u001b[0m, in \u001b[0;36mget_tokenizer_config\u001b[1;34m(pretrained_model_name_or_path, cache_dir, force_download, resume_download, proxies, use_auth_token, revision, local_files_only, subfolder, **kwargs)\u001b[0m\n\u001b[0;32m    401\u001b[0m \u001b[39m\"\"\"\u001b[39;00m\n\u001b[0;32m    402\u001b[0m \u001b[39mLoads the tokenizer configuration from a pretrained model tokenizer configuration.\u001b[39;00m\n\u001b[0;32m    403\u001b[0m \n\u001b[1;32m   (...)\u001b[0m\n\u001b[0;32m    460\u001b[0m \u001b[39mtokenizer_config = get_tokenizer_config(\"tokenizer-test\")\u001b[39;00m\n\u001b[0;32m    461\u001b[0m \u001b[39m```\"\"\"\u001b[39;00m\n\u001b[0;32m    462\u001b[0m commit_hash \u001b[39m=\u001b[39m kwargs\u001b[39m.\u001b[39mget(\u001b[39m\"\u001b[39m\u001b[39m_commit_hash\u001b[39m\u001b[39m\"\u001b[39m, \u001b[39mNone\u001b[39;00m)\n\u001b[1;32m--> 463\u001b[0m resolved_config_file \u001b[39m=\u001b[39m cached_file(\n\u001b[0;32m    464\u001b[0m     pretrained_model_name_or_path,\n\u001b[0;32m    465\u001b[0m     TOKENIZER_CONFIG_FILE,\n\u001b[0;32m    466\u001b[0m     cache_dir\u001b[39m=\u001b[39;49mcache_dir,\n\u001b[0;32m    467\u001b[0m     force_download\u001b[39m=\u001b[39;49mforce_download,\n\u001b[0;32m    468\u001b[0m     resume_download\u001b[39m=\u001b[39;49mresume_download,\n\u001b[0;32m    469\u001b[0m     proxies\u001b[39m=\u001b[39;49mproxies,\n\u001b[0;32m    470\u001b[0m     use_auth_token\u001b[39m=\u001b[39;49muse_auth_token,\n\u001b[0;32m    471\u001b[0m     revision\u001b[39m=\u001b[39;49mrevision,\n\u001b[0;32m    472\u001b[0m     local_files_only\u001b[39m=\u001b[39;49mlocal_files_only,\n\u001b[0;32m    473\u001b[0m     subfolder\u001b[39m=\u001b[39;49msubfolder,\n\u001b[0;32m    474\u001b[0m     _raise_exceptions_for_missing_entries\u001b[39m=\u001b[39;49m\u001b[39mFalse\u001b[39;49;00m,\n\u001b[0;32m    475\u001b[0m     _raise_exceptions_for_connection_errors\u001b[39m=\u001b[39;49m\u001b[39mFalse\u001b[39;49;00m,\n\u001b[0;32m    476\u001b[0m     _commit_hash\u001b[39m=\u001b[39;49mcommit_hash,\n\u001b[0;32m    477\u001b[0m )\n\u001b[0;32m    478\u001b[0m \u001b[39mif\u001b[39;00m resolved_config_file \u001b[39mis\u001b[39;00m \u001b[39mNone\u001b[39;00m:\n\u001b[0;32m    479\u001b[0m     logger\u001b[39m.\u001b[39minfo(\u001b[39m\"\u001b[39m\u001b[39mCould not locate the tokenizer configuration file, will try to use the model config instead.\u001b[39m\u001b[39m\"\u001b[39m)\n",
      "File \u001b[1;32m~\\AppData\\Roaming\\Python\\Python39\\site-packages\\transformers\\utils\\hub.py:424\u001b[0m, in \u001b[0;36mcached_file\u001b[1;34m(path_or_repo_id, filename, cache_dir, force_download, resume_download, proxies, use_auth_token, revision, local_files_only, subfolder, user_agent, _raise_exceptions_for_missing_entries, _raise_exceptions_for_connection_errors, _commit_hash)\u001b[0m\n\u001b[0;32m    409\u001b[0m     resolved_file \u001b[39m=\u001b[39m hf_hub_download(\n\u001b[0;32m    410\u001b[0m         path_or_repo_id,\n\u001b[0;32m    411\u001b[0m         filename,\n\u001b[1;32m   (...)\u001b[0m\n\u001b[0;32m    420\u001b[0m         local_files_only\u001b[39m=\u001b[39mlocal_files_only,\n\u001b[0;32m    421\u001b[0m     )\n\u001b[0;32m    423\u001b[0m \u001b[39mexcept\u001b[39;00m RepositoryNotFoundError:\n\u001b[1;32m--> 424\u001b[0m     \u001b[39mraise\u001b[39;00m \u001b[39mEnvironmentError\u001b[39;00m(\n\u001b[0;32m    425\u001b[0m         \u001b[39mf\u001b[39m\u001b[39m\"\u001b[39m\u001b[39m{\u001b[39;00mpath_or_repo_id\u001b[39m}\u001b[39;00m\u001b[39m is not a local folder and is not a valid model identifier \u001b[39m\u001b[39m\"\u001b[39m\n\u001b[0;32m    426\u001b[0m         \u001b[39m\"\u001b[39m\u001b[39mlisted on \u001b[39m\u001b[39m'\u001b[39m\u001b[39mhttps://huggingface.co/models\u001b[39m\u001b[39m'\u001b[39m\u001b[39m\\n\u001b[39;00m\u001b[39mIf this is a private repository, make sure to \u001b[39m\u001b[39m\"\u001b[39m\n\u001b[0;32m    427\u001b[0m         \u001b[39m\"\u001b[39m\u001b[39mpass a token having permission to this repo with `use_auth_token` or log in with \u001b[39m\u001b[39m\"\u001b[39m\n\u001b[0;32m    428\u001b[0m         \u001b[39m\"\u001b[39m\u001b[39m`huggingface-cli login` and pass `use_auth_token=True`.\u001b[39m\u001b[39m\"\u001b[39m\n\u001b[0;32m    429\u001b[0m     )\n\u001b[0;32m    430\u001b[0m \u001b[39mexcept\u001b[39;00m RevisionNotFoundError:\n\u001b[0;32m    431\u001b[0m     \u001b[39mraise\u001b[39;00m \u001b[39mEnvironmentError\u001b[39;00m(\n\u001b[0;32m    432\u001b[0m         \u001b[39mf\u001b[39m\u001b[39m\"\u001b[39m\u001b[39m{\u001b[39;00mrevision\u001b[39m}\u001b[39;00m\u001b[39m is not a valid git identifier (branch name, tag name or commit id) that exists \u001b[39m\u001b[39m\"\u001b[39m\n\u001b[0;32m    433\u001b[0m         \u001b[39m\"\u001b[39m\u001b[39mfor this model name. Check the model page at \u001b[39m\u001b[39m\"\u001b[39m\n\u001b[0;32m    434\u001b[0m         \u001b[39mf\u001b[39m\u001b[39m\"\u001b[39m\u001b[39m'\u001b[39m\u001b[39mhttps://huggingface.co/\u001b[39m\u001b[39m{\u001b[39;00mpath_or_repo_id\u001b[39m}\u001b[39;00m\u001b[39m'\u001b[39m\u001b[39m for available revisions.\u001b[39m\u001b[39m\"\u001b[39m\n\u001b[0;32m    435\u001b[0m     )\n",
      "\u001b[1;31mOSError\u001b[0m: meta-llama/Llama-2-7b-chat-hf is not a local folder and is not a valid model identifier listed on 'https://huggingface.co/models'\nIf this is a private repository, make sure to pass a token having permission to this repo with `use_auth_token` or log in with `huggingface-cli login` and pass `use_auth_token=True`."
     ]
    }
   ],
   "source": [
    "model = \"meta-llama/Llama-2-7b-chat-hf\"\n",
    "\n",
    "tokenizer = AutoTokenizer.from_pretrained(model)\n",
    "pipeline = transformers.pipeline(\n",
    "    \"text-generation\",\n",
    "    model=model,\n",
    "    torch_dtype=torch.float16,\n",
    "    device_map=\"auto\",\n",
    ")\n",
    "\n",
    "sequences = pipeline(\n",
    "    'I liked \"Breaking Bad\" and \"Band of Brothers\". Do you have any recommendations of other shows I might like?\\n',\n",
    "    do_sample=True,\n",
    "    top_k=10,\n",
    "    num_return_sequences=1,\n",
    "    eos_token_id=tokenizer.eos_token_id,\n",
    "    max_length=200,\n",
    ")\n",
    "for seq in sequences:\n",
    "    print(f\"Result: {seq['generated_text']}\")"
   ]
  },
  {
   "cell_type": "markdown",
   "metadata": {},
   "source": [
    "### Using Huggingface interface right now, need to figure out how to huggingface-cli login"
   ]
  },
  {
   "cell_type": "code",
   "execution_count": 68,
   "metadata": {},
   "outputs": [],
   "source": [
    "llama_compiled = [[\"Bengtsson and colleagues have calculated the L2 moments of inertia for various superdeformed bands and found that the change in the total L2 value as a function of frequency depends on which high-N orbitals are occupied.\",\n",
    "\"In their study, Bengtsson et al. calculated the L2 moments of inertia for different superdeformed bands and discovered that the variation in the total L2 value as a function of frequency is influenced by which high-N orbitals are occupied.\",\n",
    "\"Bengtsson and his colleagues investigated the L2 moments of inertia for various superdeformed bands and found that the change in the total L2 value as a function of frequency is linked to the occupation of specific high-N orbitals.\",\n",
    "\"In their research, Bengtsson et al. calculated the L2 moments of inertia for several superdeformed bands and discovered that the variation in the total L2 value as a function of frequency is dependent on which high-N orbitals are filled with electrons.\",\n",
    "\"Bengtsson and his colleagues calculated the L2 moments of inertia for various superdeformed bands and found that the change in the total L2 value as a function of frequency is related to the occupancy of specific high-N orbitals, which affects the distribution of electrons in the atom.\"],\n",
    "[\"Furthermore, the frequencies of de-excitation from the superdeformed bands in 150Gd and 151Tb differ significantly from those observed in 148,149Gd and 151,152Dy.\",\n",
    "\"It is notable that the de-excitation frequencies in 150Gd and 151Tb differ greatly from the frequencies observed in 148,149Gd and 151,152Dy.\",\n",
    "\"The difference in de-excitation frequencies between superdeformed bands in 150Gd and 151Tb and those in 148,149Gd and 151,152Dy is quite striking.\",\n",
    "\"The de-excitation frequencies in 150Gd and 151Tb diverge significantly from the frequencies observed in 148,149Gd and 151,152Dy, indicating distinct properties in these elements.\",\n",
    "\"The disparity in de-excitation frequencies between superdeformed bands in 150Gd and 151Tb and those in 148,149Gd and 151,152Dy highlights the unique characteristics of each element.\"],\n",
    "[\"Each transition in the band was synchronized with the other members of the group, and the spectra in Figure 1 represent the cumulative sum of spectra that correspond to transitions in the superdeformed bands of 150Gd and 151Tb, respectively.\",\n",
    "\"The transitions were coordinated between band members, and the spectra in Figure 1 represent the total spectrum of transitions that align with the superdeformed bands of 150Gd and 151Tb.\",\n",
    "\"Each transition was in harmony with the others in the band, and the spectra in Figure 1 demonstrate the combined spectra of transitions that correspond to the superdeformed bands of 150Gd and 151Tb.\",\n",
    "\"The transitions were simultaneous with one another and the spectra in Figure 1 represent the collective sum of spectra associated with transitions in the superdeformed bands of 150Gd and 151Tb.\",\n",
    "\"Each transition was in synchrony with the others, and the spectra in Figure 1 display the combined spectra of transitions that align with the superdeformed bands of 150Gd and 151Tb.\"],\n",
    "[\"Despite not detecting any discrete transitions connecting the superdeformed bands to known even-electron states, it was feasible to estimate the average spin of entry into the yrast states for 150Gd through measuring the intensity of the superdeformed band detected from spectra triggered by known yrast transitions.\",\n",
    "\"No direct connections were found between the superdeformed bands and known even-electron states, but it was possible to determine the average spin of entry into the yrast states for 150Gd by analyzing the intensity of the superdeformed band observed in spectra gated on known yrast transitions.\",\n",
    "\"The absence of discrete transitions linking the superdeformed bands to known even-electron states did not hinder the estimation of the average spin of entry into the yrast states for 150Gd, which was achieved by measuring the intensity of the superdeformed band obtained from spectra triggered by known yrast transitions.\",\n",
    "\"Although no obvious connections were found between the superdeformed bands and known even-electron states, it was possible to estimate the average spin of entry into the yrast states for 150Gd by analyzing the intensity of the superdeformed band observed in spectra gated on known yrast transitions.\",\n",
    "\"Despite the lack of direct connections between the superdeformed bands and known even-electron states, it was feasible to determine the average spin of entry into the yrast states for 150Gd by measuring the intensity of the superdeformed band detected from spectra triggered by known yrast transitions.\"],\n",
    "[\"On the basis of the assumption that the superdeformed band does not become yrast until its spin reaches 50 h, it is estimated that it will take around 3 MeV of excitation energy to de-excite it once it has reached the yrast state.\",\n",
    "\"Assuming that the superdeformed band does not become yrast until its spin reaches 50 h, it is estimated that it will require around 3 MeV of excitation energy to de-excite it once it has entered the yrast state.\",\n",
    "\"If we assume that the superdeformed band does not become yrast until its spin reaches 50 h, then it is estimated that it will take around 3 MeV of excitation energy to de-excite it once it has reached the yrast state.\",\n",
    "\"Based on the assumption that the superdeformed band does not become yrast until its spin reaches 50 h, it is estimated that it will require around 3 MeV of excitation energy to de-excite it once it has entered the yrast state.\",\n",
    "\"Assuming that the superdeformed band does not become yrast until its spin reaches 50 h, it is estimated that it will take around 3 MeV of excitation energy to de-excite it once it has reached the yrast state.\"]]"
   ]
  },
  {
   "cell_type": "markdown",
   "metadata": {},
   "source": [
    "##### Lev Ratio"
   ]
  },
  {
   "cell_type": "code",
   "execution_count": 76,
   "metadata": {},
   "outputs": [
    {
     "name": "stdout",
     "output_type": "stream",
     "text": [
      "[23.0, 21.0, 24.0, 31.0, 30.0]\n",
      "25.8\n",
      "[0.9195804195804196, 0.8820224719101124, 0.8840579710144928, 0.9066265060240963, 0.8617511520737328]\n",
      "0.8908077041205708\n",
      "[[0.9506726457399103, 0.9539748953974896, 0.9264069264069265, 0.9484126984126984, 0.9195804195804196], [0.9695121951219512, 0.9146341463414634, 0.9024390243902439, 0.8820224719101124, 0.8895027624309392], [0.9377593360995851, 0.8840579710144928, 0.9227053140096618, 0.9033816425120773, 0.9178743961352657], [0.9066265060240963, 0.9096385542168675, 0.9066265060240963, 0.9186746987951807, 0.9066265060240963], [0.8739130434782608, 0.863849765258216, 0.8617511520737328, 0.8761061946902655, 0.863849765258216]]\n",
      "0.0008417885819599208\n"
     ]
    }
   ],
   "source": [
    "# Calculate Levenshtein distance\n",
    "bo5_dist = []\n",
    "for i in range(5):\n",
    "    dist = []\n",
    "    for sentence in llama_compiled[i]:\n",
    "        dist.append(levenshteinDistance.levenshteinDistance(sentence, sentences[i]))\n",
    "    bo5_dist.append(np.max(dist))\n",
    "print(bo5_dist)\n",
    "print(np.mean(bo5_dist))\n",
    "\n",
    "# Calculate Levenshtein ratio\n",
    "bo5_dist = []\n",
    "for i in range(5):\n",
    "    dist = []\n",
    "    for sentence in llama_compiled[i]:\n",
    "        dist.append(ratio(sentence, sentences[i]))\n",
    "    bo5_dist.append(np.min(dist)) # min since we want the smallest lev ratio = furthest/best paraphrase\n",
    "print(bo5_dist)\n",
    "print(np.mean(bo5_dist))\n",
    "llama_bo5_dist = bo5_dist\n",
    "\n",
    "# For plotting\n",
    "llama_dist = []\n",
    "for i in range(5):\n",
    "    dist = []\n",
    "    for sentence in llama_compiled[i]:\n",
    "        dist.append(ratio(sentence, sentences[i]))\n",
    "    llama_dist.append(dist)\n",
    "    llama_var = np.var(llama_dist)\n",
    "print(llama_dist)\n",
    "print(llama_var)"
   ]
  },
  {
   "cell_type": "code",
   "execution_count": 75,
   "metadata": {},
   "outputs": [
    {
     "name": "stdout",
     "output_type": "stream",
     "text": [
      "[0.9798807, 0.9885055, 0.94474924, 0.94288623, 0.94225067]\n",
      "0.9596545\n"
     ]
    }
   ],
   "source": [
    "llama_similarity = []\n",
    "bo5_similarity = []\n",
    "for i in range(5):\n",
    "    similarity = []\n",
    "    # We compute embeddings for the original sentence and the paraphrases\n",
    "    embeddings = model.encode([sentences[i]] + llama_compiled[i])\n",
    "    original_embedding = embeddings[0]\n",
    "    for j in range(5):\n",
    "        paraphrase_embedding = embeddings[j + 1]\n",
    "        # Cosine similarity is a good measure for semantic similarity\n",
    "        similarity.append(np.inner(original_embedding, paraphrase_embedding) / (np.linalg.norm(original_embedding) * np.linalg.norm(paraphrase_embedding)))\n",
    "    bo5_similarity.append(np.max(similarity))\n",
    "    llama_similarity.append(similarity)\n",
    "print(bo5_similarity)\n",
    "print(np.mean(bo5_similarity))\n",
    "llama_bo5_similarity = bo5_similarity"
   ]
  },
  {
   "cell_type": "code",
   "execution_count": 77,
   "metadata": {},
   "outputs": [
    {
     "data": {
      "image/png": "[encoded data removed]",
      "text/plain": [
       "<Figure size 640x480 with 1 Axes>"
      ]
     },
     "metadata": {},
     "output_type": "display_data"
    }
   ],
   "source": [
    "fig, ax = plt.subplots()\n",
    "\n",
    "ax.scatter(gpt4_similarity, gpt4_dist, c='red', label='gpt4:red')\n",
    "ax.scatter(gpt35_similarity, gpt35_dist, c='orange', label='gpt35:orange')\n",
    "ax.scatter(bing_similarity, bing_dist, c='black', label='bing:black')\n",
    "ax.scatter(bard_similarity, bard_dist, c='blue', label='bard:blue')\n",
    "ax.scatter(pegasus_similarity, pegasus_dist, c='purple', label='pegasus:purple')\n",
    "ax.scatter(parrot_similarity, parrot_dist, c='green', label='parrot:green')\n",
    "ax.scatter(llama_similarity, llama_dist, c='yellow', label='llama:yellow')\n",
    "\n",
    "plt.xlabel(\"Semantic Similarity\")\n",
    "plt.ylabel(\"Levenshtein Ratio\")\n",
    "plt.title(\"Plot of Semantic Similarity against Levenshtein Ratio\")\n",
    "ax.set_ylim(1.0, 0.8)\n",
    "ax.set_xlim(0.7, 1.0)\n",
    "ax.legend()\n",
    "ax.grid(True)\n",
    "plt.show()"
   ]
  },
  {
   "cell_type": "code",
   "execution_count": 78,
   "metadata": {},
   "outputs": [
    {
     "data": {
      "image/png": "[encoded data removed]",
      "text/plain": [
       "<Figure size 640x480 with 1 Axes>"
      ]
     },
     "metadata": {},
     "output_type": "display_data"
    }
   ],
   "source": [
    "fig, ax = plt.subplots()\n",
    "\n",
    "ax.scatter(gpt4_bo5_similarity, gpt4_bo5_dist, c='red', label='gpt4:red')\n",
    "ax.scatter(gpt35_bo5_similarity, gpt35_bo5_dist, c='orange', label='gpt35:orange')\n",
    "ax.scatter(bing_bo5_similarity, bing_bo5_dist, c='black', label='bing:black')\n",
    "ax.scatter(bard_bo5_similarity, bard_bo5_dist, c='blue', label='bard:blue')\n",
    "ax.scatter(pegasus_bo5_similarity, pegasus_bo5_dist, c='purple', label='pegasus:purple')\n",
    "ax.scatter(parrot_bo5_similarity, parrot_bo5_dist, c='green', label='parrot:green')\n",
    "ax.scatter(llama_bo5_similarity, llama_bo5_dist, c='yellow', label='llama:yellow')\n",
    "\n",
    "plt.xlabel(\"Semantic Similarity\")\n",
    "plt.ylabel(\"Levenshtein Ratio\")\n",
    "plt.title(\"Plot of Best of 5 Semantic Similarity against Levenshtein Ratio\")\n",
    "ax.set_ylim(1.0, 0.8)\n",
    "ax.set_xlim(0.7, 1.0)\n",
    "ax.legend()\n",
    "ax.grid(True)\n",
    "plt.show()"
   ]
  },
  {
   "cell_type": "code",
   "execution_count": null,
   "metadata": {},
   "outputs": [],
   "source": []
  }
 ],
 "metadata": {
  "kernelspec": {
   "display_name": "Python 3",
   "language": "python",
   "name": "python3"
  },
  "language_info": {
   "codemirror_mode": {
    "name": "ipython",
    "version": 3
   },
   "file_extension": ".py",
   "mimetype": "text/x-python",
   "name": "python",
   "nbconvert_exporter": "python",
   "pygments_lexer": "ipython3",
   "version": "3.9.7"
  },
  "orig_nbformat": 4,
  "vscode": {
   "interpreter": {
    "hash": "20a9e06a1eee47c4abbed4ec8225ad91d78d9800d202b71b6b0a6e47016c6abd"
   }
  }
 },
 "nbformat": 4,
 "nbformat_minor": 2
}
